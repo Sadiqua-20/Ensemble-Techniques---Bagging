{
  "nbformat": 4,
  "nbformat_minor": 0,
  "metadata": {
    "colab": {
      "provenance": [],
      "collapsed_sections": [
        "nYMpU7hYbN6E"
      ]
    },
    "kernelspec": {
      "name": "python3",
      "display_name": "Python 3"
    },
    "language_info": {
      "name": "python"
    }
  },
  "cells": [
    {
      "cell_type": "markdown",
      "source": [
        "# **THEORETICAL QUESTIONS**"
      ],
      "metadata": {
        "id": "nYMpU7hYbN6E"
      }
    },
    {
      "cell_type": "markdown",
      "source": [
        "## Q1. Can we use Bagging for regression problems?"
      ],
      "metadata": {
        "id": "sG_NRZUxbVPs"
      }
    },
    {
      "cell_type": "markdown",
      "source": [
        "## ANS 1.\n",
        "\n",
        "- Yes, we can use Bagging for regression problems.\n",
        "- We can do it by using `RandomForestRegressor` and `BaggingRegressor`."
      ],
      "metadata": {
        "id": "waqqXsg0bc_d"
      }
    },
    {
      "cell_type": "markdown",
      "source": [
        "## Q2. What is the difference between multiple model training and single model training?"
      ],
      "metadata": {
        "id": "GkYeT6RCcZ48"
      }
    },
    {
      "cell_type": "markdown",
      "source": [
        "## ANS 2.\n",
        "\n",
        "Following is the difference between Single Model Training and Multiple Model Training:\n",
        "\n",
        "- #### **Single Model Training:**\n",
        "\n",
        " 1. Only one model is trained on the entire dataset.\n",
        " 2. Simpler and faster to implement.\n",
        " 3. Easier to interpret and explain.\n",
        " 4. Lower computational cost.\n",
        " 5. Performance is limited by the capabilities of that single algorithm.\n",
        " 6. Higher risk of overfitting (e.g., decision trees) or underfitting (e.g., linear regression).\n",
        " 7. Suitable for small datasets or problems where interpretability is important.\n",
        "\n",
        "\n",
        "- #### **Multiple Model Training:**\n",
        "\n",
        " 1. Multiple models are trained and combined for final prediction.\n",
        " 2. More complex and time-consuming to implement.\n",
        " 3. Harder to interpret due to the aggregation of many models.\n",
        " 4. Higher computational cost.\n",
        " 5. Typically achieves better accuracy and generalization.\n",
        " 6. Reduces overfitting (Bagging)** or **bias (Boosting).\n",
        " 7. Ideal for large, noisy datasets or problems where high performance is critical.\n"
      ],
      "metadata": {
        "id": "Uz6pUVUDciet"
      }
    },
    {
      "cell_type": "markdown",
      "source": [
        "## Q3. Explain the concept of feature randomness in Random Forest."
      ],
      "metadata": {
        "id": "HS65RbKees4k"
      }
    },
    {
      "cell_type": "markdown",
      "source": [
        "## ANS 3.\n",
        "\n",
        "* At each split in a tree, **only a random subset of features** is considered (not all features).\n",
        "* This randomness:\n",
        "\n",
        "  * **Reduces similarity** between trees\n",
        "  * **Improves accuracy**\n",
        "  * **Prevents overfitting**\n",
        "* Controlled by the `max_features` parameter in `sklearn`."
      ],
      "metadata": {
        "id": "xDSKTzQfe2Ek"
      }
    },
    {
      "cell_type": "markdown",
      "source": [
        "## Q4. What is OOB (Out-of-Bag) Score?"
      ],
      "metadata": {
        "id": "ZtctaHKmgImv"
      }
    },
    {
      "cell_type": "markdown",
      "source": [
        "## ANS 4.\n",
        "\n",
        "**OOB (Out-of-Bag) Score** is a validation score used in ensemble method **Random Forest** to estimate model performance without needing a separate validation set.\n",
        "\n",
        "1. Each tree in the forest is trained on a bootstrap sample (random sample with replacement).\n",
        "2. About 1/3 of the data is not used in each sample — these are the Out-of-Bag samples.\n",
        "3. The tree predicts on its OOB samples.\n",
        "4. Average of OOB predictions from all trees for each sample is taken. This is the final OOB Score prediction.  \n",
        "\n",
        "- Higher the OOB Score, better the model performance."
      ],
      "metadata": {
        "id": "HiYlgGfCgqYD"
      }
    },
    {
      "cell_type": "markdown",
      "source": [
        "## Q5. How can you measure the importance of features in a Random Forest model?"
      ],
      "metadata": {
        "id": "5U0ND_pSiY-l"
      }
    },
    {
      "cell_type": "markdown",
      "source": [
        "## ANS 5.\n",
        "\n",
        "We can measure feature importance using:\n",
        "\n",
        "1. **Mean Decrease in Impurity (MDI)**\n",
        "\n",
        "   * Default in scikit-learn\n",
        "   * Based on how much each feature reduces splitting error\n",
        "   * Use: `model.feature_importances_`\n",
        "\n",
        "2. **Permutation Importance**\n",
        "\n",
        "   * Measures drop in accuracy when a feature is shuffled\n",
        "   * More accurate\n",
        "   * Use: `sklearn.inspection.permutation_importance`"
      ],
      "metadata": {
        "id": "Z7Jws8x6iiLG"
      }
    },
    {
      "cell_type": "markdown",
      "source": [
        "## Q6. Explain the working principle of a Bagging Classifier.\n"
      ],
      "metadata": {
        "id": "r4rIHdD3mlHv"
      }
    },
    {
      "cell_type": "markdown",
      "source": [
        "## ANS 6.\n",
        "\n",
        "#### How a **Bagging Classifier** Works:\n",
        "\n",
        "1. **Bootstrap Sampling:**\n",
        "\n",
        "   * Create multiple random subsets of the training data (with replacement).\n",
        "   * Each subset may contain duplicate samples.\n",
        "\n",
        "2. **Train Multiple Models:**\n",
        "\n",
        "   * A base classifier (e.g., decision tree) is trained on each subset.\n",
        "   * All models are trained independently.\n",
        "\n",
        "3. **Aggregate Predictions:**\n",
        "\n",
        "   * For classification, final prediction is made by majority voting (most common class predicted by all models)."
      ],
      "metadata": {
        "id": "mAlxBaRbmtTf"
      }
    },
    {
      "cell_type": "markdown",
      "source": [
        "## Q7. How do you evaluate a Bagging Classifier's performance?"
      ],
      "metadata": {
        "id": "MPY_pndBqS7A"
      }
    },
    {
      "cell_type": "markdown",
      "source": [
        "## ANS 7.\n",
        "\n",
        "We can evaluate a **Bagging Classifier's performance** using:\n",
        "\n",
        "#### 1. **Accuracy**\n",
        "\n",
        "* Measures the percentage of correct predictions.\n",
        "* Good for balanced datasets.\n",
        "\n",
        "\n",
        "\n",
        "#### 2. **Confusion Matrix**\n",
        "\n",
        "* A table showing:\n",
        "\n",
        "  * **True Positives (TP)**\n",
        "  * **False Positives (FP)**\n",
        "  * **True Negatives (TN)**\n",
        "  * **False Negatives (FN)**\n",
        "* Helps understand the types of errors made.\n",
        "\n",
        "\n",
        "#### 3. **Precision, Recall, and F1-Score**\n",
        "\n",
        "* **Precision**: How many predicted positives are actually correct?\n",
        "* **Recall**: How many actual positives were correctly predicted?\n",
        "* **F1-Score**: Harmonic mean of precision and recall — balances the two.\n",
        "\n",
        "\n",
        "\n",
        "#### 4. **ROC-AUC Score** (for binary classification)\n",
        "\n",
        "* Measures how well the model distinguishes between two classes.\n",
        "* Higher AUC = better performance.\n",
        "\n",
        "\n",
        "\n",
        "#### 5. **OOB (Out-of-Bag) Score**\n",
        "\n",
        "* If enabled during training, it's an internal estimate of test accuracy.\n",
        "* No need for a separate validation set.\n",
        "\n"
      ],
      "metadata": {
        "id": "9FxR72vMqZ-v"
      }
    },
    {
      "cell_type": "markdown",
      "source": [
        "## Q8. How does a Bagging Regressor work?"
      ],
      "metadata": {
        "id": "DZn2U2GarcU4"
      }
    },
    {
      "cell_type": "markdown",
      "source": [
        "## ANS 8.\n",
        "\n",
        "#### Working Steps:\n",
        "\n",
        "1. **Bootstrap Sampling:**\n",
        "\n",
        "   * Random subsets of the training data are created with replacement (some samples may repeat).\n",
        "   * Each subset is slightly different from the original dataset.\n",
        "\n",
        "2. **Train Multiple Regressors:**\n",
        "\n",
        "   * A base regressor (e.g., Decision Tree Regressor) is trained on each subset.\n",
        "   * Each model learns different patterns due to the different data it sees.\n",
        "\n",
        "3. **Aggregate Predictions:**\n",
        "\n",
        "   * For each input, predictions from all regressors are averaged to produce the final output.\n"
      ],
      "metadata": {
        "id": "pxPpL7mDrj1u"
      }
    },
    {
      "cell_type": "markdown",
      "source": [
        "## Q9. What is the main advantage of ensemble techniques?"
      ],
      "metadata": {
        "id": "1g_EOq5CsU0k"
      }
    },
    {
      "cell_type": "markdown",
      "source": [
        "## ANS 9.\n",
        "\n",
        "- The main advantage of ensemble techniques is that they combine multiple models to produce more accurate, stable, and robust predictions than a single model.\n",
        "\n",
        "- It's like asking a group of experts for their opinion instead of relying on just one — the group decision is usually better."
      ],
      "metadata": {
        "id": "TgwU7OB8sbK9"
      }
    },
    {
      "cell_type": "markdown",
      "source": [
        "## Q10. What is the main challenge of ensemble methods?"
      ],
      "metadata": {
        "id": "tRg0Pi-Wszrf"
      }
    },
    {
      "cell_type": "markdown",
      "source": [
        "## ANS 10.\n",
        "\n",
        "- The main challenge of ensemble methods is increased complexity — in terms of computation, interpretability, and implementation."
      ],
      "metadata": {
        "id": "y3UfgtlMs7rZ"
      }
    },
    {
      "cell_type": "markdown",
      "source": [
        "## Q11. Explain the key idea behind ensemble techniques."
      ],
      "metadata": {
        "id": "corCGZ75tNUU"
      }
    },
    {
      "cell_type": "markdown",
      "source": [
        "## ANS 11.\n",
        "\n",
        "- Ensemble techniques combine predictions from multiple models to improve accuracy, stability, and generalization.\n",
        "\n",
        "- The core idea is that a group of diverse models, when combined, performs better than any single model alone.\n",
        "\n",
        "- Techniques like Bagging reduce variance, Boosting reduces bias, and Stacking blends different models for stronger results.\n",
        "\n",
        "- This \"wisdom of the crowd\" approach helps correct individual model weaknesses, making ensembles more robust and reliable, especially on complex or noisy datasets.\n"
      ],
      "metadata": {
        "id": "zgqwx137tT5j"
      }
    },
    {
      "cell_type": "markdown",
      "source": [
        "## Q12. What is a Random Forest Classifier?"
      ],
      "metadata": {
        "id": "MRiQOHMGJReQ"
      }
    },
    {
      "cell_type": "markdown",
      "source": [
        "## ANS 12.\n",
        "\n",
        "A **Random Forest Classifier** is an ensemble machine learning algorithm used for classification tasks. It builds multiple decision trees and combines their results to make more accurate and stable predictions.\n",
        "\n",
        "**Advantages:**\n",
        "\n",
        "- High accuracy\n",
        "- Reduces overfitting\n",
        "- Handles large datasets and high-dimensional data well\n",
        "\n"
      ],
      "metadata": {
        "id": "nlJ-oaJ1JodR"
      }
    },
    {
      "cell_type": "markdown",
      "source": [
        "## Q13. What are the main types of ensemble techniques?"
      ],
      "metadata": {
        "id": "A3abc2jEJ4Sz"
      }
    },
    {
      "cell_type": "markdown",
      "source": [
        "## ANS 13.\n",
        "\n",
        "Here are the **three main types** of ensemble techniques in machine learning:\n",
        "\n",
        "\n",
        "#### 1. **Bagging (Bootstrap Aggregating)**\n",
        "\n",
        "* Trains multiple models on **random subsets** of data (with replacement).\n",
        "* Reduces variance.\n",
        "* Example: Random Forest\n",
        "\n",
        "#### 2. **Boosting**\n",
        "\n",
        "* Trains models **sequentially**, where each model corrects the errors of the previous one.\n",
        "* Reduces bias.\n",
        "* Examples: AdaBoost, Gradient Boosting, XGBoost\n",
        "\n",
        "#### 3. **Stacking (Stacked Generalization)**\n",
        "\n",
        "* Combines predictions from different models using a **meta-model**.\n",
        "* Can mix different types of models (e.g., tree + SVM + logistic regression).\n",
        "* More flexible but complex."
      ],
      "metadata": {
        "id": "CuVr-1QvJ-oM"
      }
    },
    {
      "cell_type": "markdown",
      "source": [
        "## Q14. What is ensemble learning in machine learning?"
      ],
      "metadata": {
        "id": "IjgpS35YLb_3"
      }
    },
    {
      "cell_type": "markdown",
      "source": [
        "## ANS 14.\n",
        "\n",
        "- Ensemble learning is a technique in machine learning where multiple models (often called base learners) are combined to solve the same problem and improve overall performance.\n",
        "\n",
        "- Instead of relying on a single model, ensemble learning combines the predictions of several models to make the final decision — leading to better accuracy, robustness, and generalization."
      ],
      "metadata": {
        "id": "uA8q1BbKNlkM"
      }
    },
    {
      "cell_type": "markdown",
      "source": [
        "## Q15. When should we avoid using ensemble methods?"
      ],
      "metadata": {
        "id": "jlq170wAVM0x"
      }
    },
    {
      "cell_type": "markdown",
      "source": [
        "## ANS 15.\n",
        "\n",
        "Following are the cases when we should avoid Ensemble Methods:\n",
        "\n",
        "1. **Interpretability Needed**: Ensemble models are harder to interpret.\n",
        "2. **Limited Resources**: They require more computation and memory.\n",
        "3. **Small Dataset**: They may overfit with limited data.\n",
        "4. **Fast Solutions**: They are slower to train and predict.\n",
        "5. **Strong Single Model**: If one model already performs well, an ensemble may not offer significant improvement.\n",
        "\n",
        "In these cases, simpler models may be better suited.\n"
      ],
      "metadata": {
        "id": "8sprOuX7WBo3"
      }
    },
    {
      "cell_type": "markdown",
      "source": [
        "## Q16. How does Bagging help in reducing overfitting?"
      ],
      "metadata": {
        "id": "i_Vue2H1Wqlb"
      }
    },
    {
      "cell_type": "markdown",
      "source": [
        "## ANS 16.\n",
        "\n",
        "Bagging helps stop a model from learning too much from the training data (overfitting) by doing three things:\n",
        "\n",
        "1. **Uses different parts of the data** to train each model, so they all learn slightly different things.\n",
        "2. Builds many models, not just one.\n",
        "3. **Combines their results** by averaging or voting, which cancels out mistakes.\n",
        "\n",
        "This makes the final prediction **more accurate and less sensitive to noise** in the data."
      ],
      "metadata": {
        "id": "BV6Pk0BVW-dV"
      }
    },
    {
      "cell_type": "markdown",
      "source": [
        "## Q17. Why is Random Forest better than a single Decision Tree?"
      ],
      "metadata": {
        "id": "n-jSjO7Hc94e"
      }
    },
    {
      "cell_type": "markdown",
      "source": [
        "## ANS 17.\n",
        "\n",
        "Following are the reasons why Random Forest is better than a single Decision Tree:\n",
        "\n",
        "1. **Higher Accuracy:** Random Forest combines multiple trees, leading to better overall predictions.\n",
        "\n",
        "2. **Less Overfitting:** Decision Trees can easily overfit the training data. Random Forest reduces this by averaging many trees, which smooths out errors.\n",
        "\n",
        "3. **More Robust to Noise:** It's less sensitive to noisy data or outliers.\n",
        "\n",
        "4. **Handles Missing Data & Imbalance Better:** It can better manage incomplete or imbalanced datasets.\n",
        "\n",
        "5. **Feature Importance:** Random Forest can rank which features are most important for prediction.\n",
        "\n",
        "In short, **Random Forest = many smart trees working together**, making it **more accurate and reliable** than just one.\n"
      ],
      "metadata": {
        "id": "ZmIDNP58dKUo"
      }
    },
    {
      "cell_type": "markdown",
      "source": [
        "## Q18. What is the role of bootstrap sampling in Bagging?"
      ],
      "metadata": {
        "id": "spNQIXr0ftfh"
      }
    },
    {
      "cell_type": "markdown",
      "source": [
        "## ANS 18.\n",
        "\n",
        "#### Role of Bootstrap Sampling in Bagging is as follws:\n",
        "* Creates random subsets of data (with replacement) for each model.\n",
        "* Makes models diverse, reducing overfitting.\n",
        "* Helps improve accuracy by combining varied predictions.\n",
        "* Allows OOB (Out-of-Bag) error estimation.\n",
        "\n",
        "It ensures each model learns differently, making the final result more stable and reliable.\n"
      ],
      "metadata": {
        "id": "QoXnjuSKf67S"
      }
    },
    {
      "cell_type": "markdown",
      "source": [
        "## Q19. What are some real-world applications of ensemble techniques?"
      ],
      "metadata": {
        "id": "OX0dz3LnlqxR"
      }
    },
    {
      "cell_type": "markdown",
      "source": [
        "## ANS 19.\n",
        "\n",
        "Real-World Applications of Ensemble Techniques are as follows:\n",
        "\n",
        "1. **Finance** – Fraud detection, credit scoring\n",
        "2. **Healthcare** – Disease prediction, medical imaging\n",
        "3. **E-commerce** – Recommendations, churn prediction\n",
        "4. **Cybersecurity** – Spam and threat detection\n",
        "5. **Weather** – More accurate forecasting\n",
        "6. **Manufacturing** – Defect detection, maintenance prediction\n",
        "\n",
        "Ensemble methods are used where **high accuracy and reliability** are essential.\n"
      ],
      "metadata": {
        "id": "gNZy0gb_lx6S"
      }
    },
    {
      "cell_type": "markdown",
      "source": [
        "## Q20. What is the difference between Bagging and Boosting?"
      ],
      "metadata": {
        "id": "XxDrO15FmxAK"
      }
    },
    {
      "cell_type": "markdown",
      "source": [
        "## ANS 20.\n",
        "\n",
        "Difference between **Bagging** and **Boosting** is as follows:\n",
        "\n",
        "1. **Purpose**\n",
        "\n",
        "   * **Bagging** reduces variance\n",
        "   * **Boosting** reduces bias\n",
        "\n",
        "2. **Model Training**\n",
        "\n",
        "   * **Bagging** trains models in parallel\n",
        "   * **Boosting** trains models sequentially\n",
        "\n",
        "3. **Data Sampling**\n",
        "\n",
        "   * **Bagging** uses random subsets with replacement\n",
        "   * **Boosting** focuses on harder samples (those misclassified earlier)\n",
        "\n",
        "4. **Model Weighting**\n",
        "\n",
        "   * **Bagging** gives equal weight to all models\n",
        "   * **Boosting** gives more weight to better-performing models\n",
        "\n",
        "5. **Prediction Method**\n",
        "\n",
        "   * **Bagging** uses majority voting (classification) or averaging (regression)\n",
        "   * **Boosting** uses weighted voting or weighted averaging\n",
        "\n",
        "6. **Risk of Overfitting**\n",
        "\n",
        "   * **Bagging** reduces overfitting\n",
        "   * **Boosting** can overfit if not tuned properly"
      ],
      "metadata": {
        "id": "QOiLL3GTm7-j"
      }
    },
    {
      "cell_type": "markdown",
      "source": [
        "# **PRACTICAL QUESTIONS**"
      ],
      "metadata": {
        "id": "OV0M8Ubyoal7"
      }
    },
    {
      "cell_type": "code",
      "source": [
        "from sklearn.ensemble import BaggingClassifier, BaggingRegressor\n",
        "from sklearn.tree import DecisionTreeClassifier, DecisionTreeRegressor\n",
        "from sklearn.linear_model import LogisticRegression\n",
        "from sklearn.model_selection import train_test_split\n",
        "from sklearn.metrics import accuracy_score, r2_score, mean_absolute_error, mean_squared_error, classification_report, roc_curve, confusion_matrix\n",
        "from sklearn.ensemble import RandomForestClassifier, RandomForestRegressor\n",
        "from sklearn.svm import SVC\n",
        "\n",
        "import pandas as pd\n",
        "import numpy as np\n",
        "import matplotlib.pyplot as plt\n",
        "import seaborn as sns\n",
        "import warnings\n",
        "warnings.filterwarnings('ignore')"
      ],
      "metadata": {
        "id": "5KMvjbGjwbvw"
      },
      "execution_count": 41,
      "outputs": []
    },
    {
      "cell_type": "markdown",
      "source": [
        "## Q21. Train a Bagging Classifier using Decision Trees on a sample dataset and print model accuracy."
      ],
      "metadata": {
        "id": "QDGtRAJIohPN"
      }
    },
    {
      "cell_type": "code",
      "source": [
        "from sklearn.datasets import load_iris\n",
        "iris = load_iris()\n",
        "X21, y21 = iris.data, iris.target\n",
        "\n",
        "X21_train, X21_test, y21_train, y21_test = train_test_split(X21, y21, test_size=0.3, random_state=1)\n",
        "\n",
        "bagging_model21 = BaggingClassifier(estimator=DecisionTreeClassifier(), n_estimators=10, random_state=1)\n",
        "bagging_model21.fit(X21_train, y21_train)\n",
        "y21_pred = bagging_model21.predict(X21_test)\n",
        "\n",
        "acc21 = accuracy_score(y21_test, y21_pred)\n",
        "print(\"Bagging Classifier Accuracy:\", acc21)"
      ],
      "metadata": {
        "colab": {
          "base_uri": "https://localhost:8080/"
        },
        "id": "x9R0gtS9pJ_a",
        "outputId": "3117cafa-d847-478d-e3b5-2db746fe5e9d"
      },
      "execution_count": 23,
      "outputs": [
        {
          "output_type": "stream",
          "name": "stdout",
          "text": [
            "Bagging Classifier Accuracy: 0.9555555555555556\n"
          ]
        }
      ]
    },
    {
      "cell_type": "markdown",
      "source": [
        "## Q22. Train a Bagging Regressor using Decision Trees and evaluate using Mean Squared Error (MSE)."
      ],
      "metadata": {
        "id": "mfOfEUBPyFZL"
      }
    },
    {
      "cell_type": "code",
      "source": [
        "from sklearn.datasets import fetch_california_housing\n",
        "housing = fetch_california_housing()\n",
        "X22, y22 = housing.data, housing.target\n",
        "\n",
        "X22_train, X22_test, y22_train, y22_test = train_test_split(X22, y22, test_size=0.3, random_state=1)\n",
        "\n",
        "bagging_model22 = BaggingRegressor(estimator=DecisionTreeRegressor(), n_estimators=10, random_state=1)\n",
        "bagging_model22.fit(X22_train, y22_train)\n",
        "y22_pred = bagging_model22.predict(X22_test)\n",
        "\n",
        "mse22 = mean_squared_error(y22_test, y22_pred)\n",
        "print(\"Bagging Regressor Mean Squared Error:\", mse22)"
      ],
      "metadata": {
        "colab": {
          "base_uri": "https://localhost:8080/"
        },
        "id": "GTCj9BKBytFo",
        "outputId": "6b1fd773-660e-4383-dcc6-17337db29906"
      },
      "execution_count": 24,
      "outputs": [
        {
          "output_type": "stream",
          "name": "stdout",
          "text": [
            "Bagging Regressor Mean Squared Error: 0.2888700666178425\n"
          ]
        }
      ]
    },
    {
      "cell_type": "markdown",
      "source": [
        "## Q23. Train a Random Forest Classifier on the Breast Cancer dataset and print feature importance scores."
      ],
      "metadata": {
        "id": "mblwXAYNz_yw"
      }
    },
    {
      "cell_type": "code",
      "source": [
        "from sklearn.datasets import load_breast_cancer\n",
        "breast_cancer = load_breast_cancer()\n",
        "X23, y23 = breast_cancer.data, breast_cancer.target\n",
        "feature_names23 = breast_cancer.feature_names\n",
        "\n",
        "X23_train, X23_test, y23_train, y23_test = train_test_split(X23, y23, test_size=0.3, random_state=1)\n",
        "\n",
        "rf_clf23 = RandomForestClassifier(n_estimators=50, max_depth=10, random_state=1)\n",
        "rf_clf23.fit(X23_train, y23_train)\n",
        "\n",
        "imp23 = rf_clf23.feature_importances_\n",
        "importance_df23 = pd.DataFrame({'Feature': feature_names23, 'Importance': imp23})\n",
        "\n",
        "importance_df23 = importance_df23.sort_values(by='Importance', ascending=False)\n",
        "print(importance_df23)"
      ],
      "metadata": {
        "colab": {
          "base_uri": "https://localhost:8080/"
        },
        "id": "IsLqrYb40gru",
        "outputId": "39cfe4bb-4f8f-431d-e34a-58dc4dcc69a0"
      },
      "execution_count": 25,
      "outputs": [
        {
          "output_type": "stream",
          "name": "stdout",
          "text": [
            "                    Feature  Importance\n",
            "23               worst area    0.164909\n",
            "22          worst perimeter    0.144113\n",
            "27     worst concave points    0.086380\n",
            "2            mean perimeter    0.080497\n",
            "20             worst radius    0.075670\n",
            "7       mean concave points    0.075016\n",
            "6            mean concavity    0.072773\n",
            "3                 mean area    0.059385\n",
            "0               mean radius    0.058724\n",
            "26          worst concavity    0.027832\n",
            "13               area error    0.026474\n",
            "25        worst compactness    0.016997\n",
            "21            worst texture    0.014883\n",
            "28           worst symmetry    0.012286\n",
            "1              mean texture    0.011295\n",
            "10             radius error    0.010409\n",
            "24         worst smoothness    0.007711\n",
            "29  worst fractal dimension    0.006740\n",
            "4           mean smoothness    0.006350\n",
            "5          mean compactness    0.006034\n",
            "18           symmetry error    0.004652\n",
            "16          concavity error    0.004352\n",
            "15        compactness error    0.004083\n",
            "12          perimeter error    0.003945\n",
            "8             mean symmetry    0.003763\n",
            "14         smoothness error    0.003593\n",
            "11            texture error    0.003194\n",
            "17     concave points error    0.003083\n",
            "19  fractal dimension error    0.002817\n",
            "9    mean fractal dimension    0.002039\n"
          ]
        }
      ]
    },
    {
      "cell_type": "markdown",
      "source": [
        "## Q24. Train a Random Forest Regressor and compare its performance with a single Decision Tree."
      ],
      "metadata": {
        "id": "xkZ3C3hn4d4X"
      }
    },
    {
      "cell_type": "code",
      "source": [
        "from sklearn.datasets import fetch_california_housing\n",
        "housing = fetch_california_housing()\n",
        "X24, y24 = housing.data, housing.target\n",
        "\n",
        "X24_train, X24_test, y24_train, y24_test = train_test_split(X24, y24, test_size=0.3, random_state=1)\n",
        "\n",
        "#Random Forest Regressor\n",
        "rf_reg24 = RandomForestRegressor(max_depth=10, random_state=1)\n",
        "rf_reg24.fit(X24_train, y24_train)\n",
        "y24_rf_reg_pred = rf_reg24.predict(X24_test)\n",
        "acc_rf_reg24 = r2_score(y24_test, y24_rf_reg_pred)\n",
        "\n",
        "#single Decision Tree\n",
        "dt_reg24 = DecisionTreeRegressor(max_depth=10, random_state=1)\n",
        "dt_reg24.fit(X24_train, y24_train)\n",
        "y24_dt_reg_pred = dt_reg24.predict(X24_test)\n",
        "acc_dt_reg24 = r2_score(y24_test, y24_dt_reg_pred)\n",
        "\n",
        "print(\"Random Forest Regressor r2 score:\", acc_rf_reg24)\n",
        "print(\"Decision Tree Regressor r2 score:\", acc_dt_reg24)\n",
        "\n",
        "if acc_rf_reg24 > acc_dt_reg24:\n",
        "    print(\"Random Forest Regressor performed better.\")\n",
        "elif acc_rf_reg24 < acc_dt_reg24:\n",
        "    print(\"Decision Tree Regressor performed better.\")\n",
        "else:\n",
        "    print(\"Both models performed equally well.\")"
      ],
      "metadata": {
        "colab": {
          "base_uri": "https://localhost:8080/"
        },
        "id": "efkV9k598z48",
        "outputId": "b914949d-d97e-477d-b414-e00ff8fbf825"
      },
      "execution_count": 26,
      "outputs": [
        {
          "output_type": "stream",
          "name": "stdout",
          "text": [
            "Random Forest Regressor r2 score: 0.7779926811240171\n",
            "Decision Tree Regressor r2 score: 0.6986919563736145\n",
            "Random Forest Regressor performed better.\n"
          ]
        }
      ]
    },
    {
      "cell_type": "markdown",
      "source": [
        "## Q25. Compute the Out-of-Bag (OOB) Score for a Random Forest Classifier."
      ],
      "metadata": {
        "id": "aTmMjyNk-ab4"
      }
    },
    {
      "cell_type": "code",
      "source": [
        "from sklearn.datasets import load_iris\n",
        "iris = load_iris()\n",
        "X25, y25 = iris.data, iris.target\n",
        "\n",
        "X25_train, X25_test, y25_train, y25_test = train_test_split(X25, y25, test_size=0.3, random_state=1)\n",
        "\n",
        "rf_clf25 = RandomForestClassifier(n_estimators=50, oob_score=True, max_depth=10, random_state=1)\n",
        "rf_clf25.fit(X25_train, y25_train)\n",
        "\n",
        "oob_score25 = rf_clf25.oob_score_\n",
        "print('OOB Score:', oob_score25)"
      ],
      "metadata": {
        "colab": {
          "base_uri": "https://localhost:8080/"
        },
        "id": "XUqGTUb9-gyI",
        "outputId": "f4f6fc2f-3f15-4893-a2f0-7cb1b6519076"
      },
      "execution_count": 27,
      "outputs": [
        {
          "output_type": "stream",
          "name": "stdout",
          "text": [
            "OOB Score: 0.9619047619047619\n"
          ]
        }
      ]
    },
    {
      "cell_type": "markdown",
      "source": [
        "## Q26. Train a Bagging Classifier using SVM as a base estimator and print accuracy."
      ],
      "metadata": {
        "id": "1c4w-LSRCxaW"
      }
    },
    {
      "cell_type": "code",
      "source": [
        "from sklearn.datasets import load_iris\n",
        "iris = load_iris()\n",
        "X26, y26 = iris.data, iris.target\n",
        "\n",
        "X26_train, X26_test, y26_train, y26_test = train_test_split(X26, y26, test_size=0.3, random_state=1)\n",
        "\n",
        "svm26 = SVC()\n",
        "bagging_model26 = BaggingClassifier(estimator = svm26, random_state=1)\n",
        "bagging_model26.fit(X26_train, y26_train)\n",
        "y26_pred = bagging_model26.predict(X26_test)\n",
        "\n",
        "acc26 = accuracy_score(y26_test, y26_pred)\n",
        "print(\"Bagging Classifier Accuracy:\", acc26)"
      ],
      "metadata": {
        "colab": {
          "base_uri": "https://localhost:8080/"
        },
        "id": "-gUk14mlQ9l2",
        "outputId": "abbb2ce8-9b41-4f84-b420-b0eae9f3d197"
      },
      "execution_count": 28,
      "outputs": [
        {
          "output_type": "stream",
          "name": "stdout",
          "text": [
            "Bagging Classifier Accuracy: 0.9777777777777777\n"
          ]
        }
      ]
    },
    {
      "cell_type": "markdown",
      "source": [
        "## Q27. Train a Random Forest Classifier with different numbers of trees and compare accuracy."
      ],
      "metadata": {
        "id": "Ym3aH8zCTiqP"
      }
    },
    {
      "cell_type": "code",
      "source": [
        "from sklearn.datasets import load_iris\n",
        "iris = load_iris()\n",
        "X27, y27 = iris.data, iris.target\n",
        "\n",
        "X27_train, X27_test, y27_train, y27_test = train_test_split(X27, y27, test_size=0.3, random_state=1)\n",
        "\n",
        "estimators_list27 = [1, 5, 10, 50, 100, 200]\n",
        "results27 = []\n",
        "\n",
        "print(\"Random Forest Accuracy Comparison:\")\n",
        "print(\"-\" * 40)\n",
        "for i in estimators_list27:\n",
        "    rf27 = RandomForestClassifier(n_estimators=i, random_state=1)\n",
        "    rf27.fit(X27_train, y27_train)\n",
        "    y27_pred = rf27.predict(X27_test)\n",
        "\n",
        "    acc27 = accuracy_score(y27_test, y27_pred)\n",
        "    results27.append((i, acc27))\n",
        "    print(f\"n_estimators = {i} --> Accuracy: {acc27}\")"
      ],
      "metadata": {
        "colab": {
          "base_uri": "https://localhost:8080/"
        },
        "id": "Y6e4Rv1mTr85",
        "outputId": "957d0541-a70a-4c1b-ff61-e330c9550349"
      },
      "execution_count": 29,
      "outputs": [
        {
          "output_type": "stream",
          "name": "stdout",
          "text": [
            "Random Forest Accuracy Comparison:\n",
            "----------------------------------------\n",
            "n_estimators = 1 --> Accuracy: 0.8666666666666667\n",
            "n_estimators = 5 --> Accuracy: 0.9333333333333333\n",
            "n_estimators = 10 --> Accuracy: 0.9555555555555556\n",
            "n_estimators = 50 --> Accuracy: 0.9555555555555556\n",
            "n_estimators = 100 --> Accuracy: 0.9555555555555556\n",
            "n_estimators = 200 --> Accuracy: 0.9555555555555556\n"
          ]
        }
      ]
    },
    {
      "cell_type": "markdown",
      "source": [
        "## Q28. Train a Bagging Classifier using Logistic Regression as a base estimator and print AUC score."
      ],
      "metadata": {
        "id": "K8EwF7nXXy29"
      }
    },
    {
      "cell_type": "code",
      "source": [
        "from sklearn.datasets import load_iris\n",
        "iris = load_iris()\n",
        "X28, y28 = iris.data, iris.target\n",
        "\n",
        "X28_train, X28_test, y28_train, y28_test = train_test_split(X28, y28, test_size=0.3, random_state=1)\n",
        "\n",
        "log_reg28 = LogisticRegression()\n",
        "bagging_model28 = BaggingClassifier(estimator = log_reg28, random_state=1)\n",
        "bagging_model28.fit(X28_train, y28_train)\n",
        "y28_pred_proba = bagging_model28.predict_proba(X28_test)\n",
        "\n",
        "from sklearn.metrics import roc_auc_score\n",
        "auc28 = roc_auc_score(y28_test, y28_pred_proba, multi_class='ovr')\n",
        "print(f\"AUC Score: {auc28}\")"
      ],
      "metadata": {
        "colab": {
          "base_uri": "https://localhost:8080/"
        },
        "id": "USpsIz4WYDA-",
        "outputId": "6e57c07b-60db-40b6-f36d-0de398276b16"
      },
      "execution_count": 30,
      "outputs": [
        {
          "output_type": "stream",
          "name": "stdout",
          "text": [
            "AUC Score: 0.9985128468924765\n"
          ]
        }
      ]
    },
    {
      "cell_type": "markdown",
      "source": [
        "## Q29. Train a Random Forest Regressor and analyze feature importance scores."
      ],
      "metadata": {
        "id": "wIToXtugeKqQ"
      }
    },
    {
      "cell_type": "code",
      "source": [
        "from sklearn.datasets import fetch_california_housing\n",
        "houusing = fetch_california_housing()\n",
        "X29, y29 = houusing.data, houusing.target\n",
        "feature_names29 = houusing.feature_names\n",
        "\n",
        "X29_train, X29_test, y29_train, y29_test = train_test_split(X29, y29, test_size=0.3, random_state=1)\n",
        "\n",
        "rf_clf29 = RandomForestRegressor(n_estimators=50, max_depth=10, random_state=1)\n",
        "rf_clf29.fit(X29_train, y29_train)\n",
        "\n",
        "imp29 = rf_clf29.feature_importances_\n",
        "importance_df29 = pd.DataFrame({'Feature': feature_names29, 'Importance': imp29})\n",
        "\n",
        "importance_df29 = importance_df29.sort_values(by='Importance', ascending=False)\n",
        "print(importance_df29)"
      ],
      "metadata": {
        "colab": {
          "base_uri": "https://localhost:8080/"
        },
        "id": "HlL_XmzaeR7J",
        "outputId": "8de9774d-8251-4341-ab4f-021714a3a3ea"
      },
      "execution_count": 31,
      "outputs": [
        {
          "output_type": "stream",
          "name": "stdout",
          "text": [
            "      Feature  Importance\n",
            "0      MedInc    0.589973\n",
            "5    AveOccup    0.142492\n",
            "6    Latitude    0.079424\n",
            "7   Longitude    0.076239\n",
            "1    HouseAge    0.045915\n",
            "2    AveRooms    0.029171\n",
            "3   AveBedrms    0.018938\n",
            "4  Population    0.017849\n"
          ]
        }
      ]
    },
    {
      "cell_type": "markdown",
      "source": [
        "## Q30. Train an ensemble model using both Bagging and Random Forest and compare accuracy."
      ],
      "metadata": {
        "id": "uGY6Qb-ngnkB"
      }
    },
    {
      "cell_type": "code",
      "source": [
        "from sklearn.datasets import fetch_california_housing\n",
        "housing = fetch_california_housing()\n",
        "X30, y30 = housing.data, housing.target\n",
        "\n",
        "X30_train, X30_test, y30_train, y30_test = train_test_split(X30, y30, test_size=0.3, random_state=1)\n",
        "\n",
        "#Bagging\n",
        "dtr30 = DecisionTreeRegressor(max_depth=10, random_state=1)\n",
        "bag30 = BaggingRegressor(estimator=dtr30)\n",
        "bag30.fit(X30_train, y30_train)\n",
        "y30_bag_pred = bag30.predict(X30_test)\n",
        "acc_bag30 = r2_score(y30_test, y30_bag_pred)\n",
        "\n",
        "#Random Forest Regressor\n",
        "rf_30 = RandomForestRegressor(max_depth=10, random_state=1)\n",
        "rf_30.fit(X30_train, y30_train)\n",
        "y30_rf_pred = rf_30.predict(X30_test)\n",
        "acc_rf30 = r2_score(y30_test, y30_rf_pred)\n",
        "\n",
        "print(\"Bagging Regressor r2 score:\", acc_bag30)\n",
        "print(\"Random Forest Regressor r2 score:\", acc_rf30)\n",
        "\n",
        "if acc_bag30 > acc_rf30:\n",
        "    print(\"Bagging Regressor performed better.\")\n",
        "elif acc_bag30 < acc_rf30:\n",
        "    print(\"Random Forest Regressor performed better.\")\n",
        "else:\n",
        "    print(\"Both models performed equally well.\")"
      ],
      "metadata": {
        "colab": {
          "base_uri": "https://localhost:8080/"
        },
        "id": "TUl8tmFEi3YI",
        "outputId": "709c9392-dc8a-40e1-fb74-1d7ee9577333"
      },
      "execution_count": 32,
      "outputs": [
        {
          "output_type": "stream",
          "name": "stdout",
          "text": [
            "Bagging Regressor r2 score: 0.7667656249088117\n",
            "Random Forest Regressor r2 score: 0.7779926811240171\n",
            "Random Forest Regressor performed better.\n"
          ]
        }
      ]
    },
    {
      "cell_type": "markdown",
      "source": [
        "## Q31. Train a Random Forest Classifier and tune hyperparameters using GridSearchCV."
      ],
      "metadata": {
        "id": "Twp0LtmHZ_8b"
      }
    },
    {
      "cell_type": "code",
      "source": [
        "from sklearn.datasets import load_iris\n",
        "iris = load_iris()\n",
        "X31, y31 = iris.data, iris.target\n",
        "\n",
        "X31_train, X31_test, y31_train, y31_test = train_test_split(X31, y31, test_size=0.3, random_state=1)\n",
        "\n",
        "rf_clf31 = RandomForestClassifier()\n",
        "\n",
        "from sklearn.model_selection import GridSearchCV\n",
        "params = {'n_estimators': [10, 20, 30, 40, 50, 60],\n",
        "          'max_depth': [5, 10, 15, 20, 25, 30, 'None'],\n",
        "          'criterion' : ['gini', 'entropy']}\n",
        "\n",
        "grid31 = GridSearchCV(rf_clf31, param_grid=params, cv=5, verbose=3)\n",
        "grid31.fit(X31_train, y31_train)\n",
        "\n",
        "print(\"Best parameters found:\")\n",
        "print(grid31.best_params_)\n",
        "\n",
        "best_rf31 = grid31.best_estimator_\n",
        "y31_pred = best_rf31.predict(X31_test)\n",
        "print(\"\\nClassification Report:\")\n",
        "print(classification_report(y31_test, y31_pred))"
      ],
      "metadata": {
        "colab": {
          "base_uri": "https://localhost:8080/"
        },
        "id": "VKqfS7xraUVt",
        "outputId": "e230ce31-4f6b-480e-bbfd-b2ca81275527"
      },
      "execution_count": 38,
      "outputs": [
        {
          "output_type": "stream",
          "name": "stdout",
          "text": [
            "Fitting 5 folds for each of 84 candidates, totalling 420 fits\n",
            "[CV 1/5] END criterion=gini, max_depth=5, n_estimators=10;, score=1.000 total time=   0.1s\n",
            "[CV 2/5] END criterion=gini, max_depth=5, n_estimators=10;, score=0.952 total time=   0.0s\n",
            "[CV 3/5] END criterion=gini, max_depth=5, n_estimators=10;, score=0.952 total time=   0.1s\n",
            "[CV 4/5] END criterion=gini, max_depth=5, n_estimators=10;, score=0.905 total time=   0.0s\n",
            "[CV 5/5] END criterion=gini, max_depth=5, n_estimators=10;, score=0.857 total time=   0.0s\n",
            "[CV 1/5] END criterion=gini, max_depth=5, n_estimators=20;, score=1.000 total time=   0.0s\n",
            "[CV 2/5] END criterion=gini, max_depth=5, n_estimators=20;, score=0.952 total time=   0.0s\n",
            "[CV 3/5] END criterion=gini, max_depth=5, n_estimators=20;, score=1.000 total time=   0.0s\n",
            "[CV 4/5] END criterion=gini, max_depth=5, n_estimators=20;, score=0.905 total time=   0.0s\n",
            "[CV 5/5] END criterion=gini, max_depth=5, n_estimators=20;, score=0.857 total time=   0.0s\n",
            "[CV 1/5] END criterion=gini, max_depth=5, n_estimators=30;, score=1.000 total time=   0.0s\n",
            "[CV 2/5] END criterion=gini, max_depth=5, n_estimators=30;, score=0.952 total time=   0.0s\n",
            "[CV 3/5] END criterion=gini, max_depth=5, n_estimators=30;, score=0.952 total time=   0.0s\n",
            "[CV 4/5] END criterion=gini, max_depth=5, n_estimators=30;, score=0.905 total time=   0.0s\n",
            "[CV 5/5] END criterion=gini, max_depth=5, n_estimators=30;, score=0.857 total time=   0.0s\n",
            "[CV 1/5] END criterion=gini, max_depth=5, n_estimators=40;, score=1.000 total time=   0.1s\n",
            "[CV 2/5] END criterion=gini, max_depth=5, n_estimators=40;, score=0.952 total time=   0.1s\n",
            "[CV 3/5] END criterion=gini, max_depth=5, n_estimators=40;, score=1.000 total time=   0.1s\n",
            "[CV 4/5] END criterion=gini, max_depth=5, n_estimators=40;, score=0.952 total time=   0.1s\n",
            "[CV 5/5] END criterion=gini, max_depth=5, n_estimators=40;, score=0.857 total time=   0.1s\n",
            "[CV 1/5] END criterion=gini, max_depth=5, n_estimators=50;, score=1.000 total time=   0.1s\n",
            "[CV 2/5] END criterion=gini, max_depth=5, n_estimators=50;, score=0.952 total time=   0.1s\n",
            "[CV 3/5] END criterion=gini, max_depth=5, n_estimators=50;, score=1.000 total time=   0.1s\n",
            "[CV 4/5] END criterion=gini, max_depth=5, n_estimators=50;, score=0.905 total time=   0.1s\n",
            "[CV 5/5] END criterion=gini, max_depth=5, n_estimators=50;, score=0.857 total time=   0.1s\n",
            "[CV 1/5] END criterion=gini, max_depth=5, n_estimators=60;, score=1.000 total time=   0.1s\n",
            "[CV 2/5] END criterion=gini, max_depth=5, n_estimators=60;, score=0.952 total time=   0.1s\n",
            "[CV 3/5] END criterion=gini, max_depth=5, n_estimators=60;, score=1.000 total time=   0.1s\n",
            "[CV 4/5] END criterion=gini, max_depth=5, n_estimators=60;, score=0.905 total time=   0.1s\n",
            "[CV 5/5] END criterion=gini, max_depth=5, n_estimators=60;, score=0.857 total time=   0.1s\n",
            "[CV 1/5] END criterion=gini, max_depth=10, n_estimators=10;, score=1.000 total time=   0.0s\n",
            "[CV 2/5] END criterion=gini, max_depth=10, n_estimators=10;, score=0.905 total time=   0.0s\n",
            "[CV 3/5] END criterion=gini, max_depth=10, n_estimators=10;, score=1.000 total time=   0.0s\n",
            "[CV 4/5] END criterion=gini, max_depth=10, n_estimators=10;, score=0.952 total time=   0.0s\n",
            "[CV 5/5] END criterion=gini, max_depth=10, n_estimators=10;, score=0.857 total time=   0.0s\n",
            "[CV 1/5] END criterion=gini, max_depth=10, n_estimators=20;, score=1.000 total time=   0.0s\n",
            "[CV 2/5] END criterion=gini, max_depth=10, n_estimators=20;, score=0.905 total time=   0.0s\n",
            "[CV 3/5] END criterion=gini, max_depth=10, n_estimators=20;, score=0.952 total time=   0.1s\n",
            "[CV 4/5] END criterion=gini, max_depth=10, n_estimators=20;, score=0.952 total time=   0.1s\n",
            "[CV 5/5] END criterion=gini, max_depth=10, n_estimators=20;, score=0.857 total time=   0.0s\n",
            "[CV 1/5] END criterion=gini, max_depth=10, n_estimators=30;, score=1.000 total time=   0.1s\n",
            "[CV 2/5] END criterion=gini, max_depth=10, n_estimators=30;, score=0.952 total time=   0.1s\n",
            "[CV 3/5] END criterion=gini, max_depth=10, n_estimators=30;, score=1.000 total time=   0.1s\n",
            "[CV 4/5] END criterion=gini, max_depth=10, n_estimators=30;, score=0.952 total time=   0.1s\n",
            "[CV 5/5] END criterion=gini, max_depth=10, n_estimators=30;, score=0.857 total time=   0.1s\n",
            "[CV 1/5] END criterion=gini, max_depth=10, n_estimators=40;, score=1.000 total time=   0.1s\n",
            "[CV 2/5] END criterion=gini, max_depth=10, n_estimators=40;, score=0.905 total time=   0.1s\n",
            "[CV 3/5] END criterion=gini, max_depth=10, n_estimators=40;, score=1.000 total time=   0.1s\n",
            "[CV 4/5] END criterion=gini, max_depth=10, n_estimators=40;, score=0.952 total time=   0.1s\n",
            "[CV 5/5] END criterion=gini, max_depth=10, n_estimators=40;, score=0.857 total time=   0.1s\n",
            "[CV 1/5] END criterion=gini, max_depth=10, n_estimators=50;, score=1.000 total time=   0.1s\n",
            "[CV 2/5] END criterion=gini, max_depth=10, n_estimators=50;, score=0.952 total time=   0.2s\n",
            "[CV 3/5] END criterion=gini, max_depth=10, n_estimators=50;, score=1.000 total time=   0.1s\n",
            "[CV 4/5] END criterion=gini, max_depth=10, n_estimators=50;, score=0.905 total time=   0.1s\n",
            "[CV 5/5] END criterion=gini, max_depth=10, n_estimators=50;, score=0.857 total time=   0.1s\n",
            "[CV 1/5] END criterion=gini, max_depth=10, n_estimators=60;, score=1.000 total time=   0.2s\n",
            "[CV 2/5] END criterion=gini, max_depth=10, n_estimators=60;, score=0.905 total time=   0.2s\n",
            "[CV 3/5] END criterion=gini, max_depth=10, n_estimators=60;, score=0.952 total time=   0.1s\n",
            "[CV 4/5] END criterion=gini, max_depth=10, n_estimators=60;, score=0.952 total time=   0.1s\n",
            "[CV 5/5] END criterion=gini, max_depth=10, n_estimators=60;, score=0.857 total time=   0.1s\n",
            "[CV 1/5] END criterion=gini, max_depth=15, n_estimators=10;, score=1.000 total time=   0.0s\n",
            "[CV 2/5] END criterion=gini, max_depth=15, n_estimators=10;, score=0.905 total time=   0.0s\n",
            "[CV 3/5] END criterion=gini, max_depth=15, n_estimators=10;, score=0.905 total time=   0.0s\n",
            "[CV 4/5] END criterion=gini, max_depth=15, n_estimators=10;, score=0.952 total time=   0.0s\n",
            "[CV 5/5] END criterion=gini, max_depth=15, n_estimators=10;, score=0.857 total time=   0.0s\n",
            "[CV 1/5] END criterion=gini, max_depth=15, n_estimators=20;, score=1.000 total time=   0.0s\n",
            "[CV 2/5] END criterion=gini, max_depth=15, n_estimators=20;, score=0.952 total time=   0.0s\n",
            "[CV 3/5] END criterion=gini, max_depth=15, n_estimators=20;, score=0.952 total time=   0.0s\n",
            "[CV 4/5] END criterion=gini, max_depth=15, n_estimators=20;, score=0.952 total time=   0.0s\n",
            "[CV 5/5] END criterion=gini, max_depth=15, n_estimators=20;, score=0.857 total time=   0.0s\n",
            "[CV 1/5] END criterion=gini, max_depth=15, n_estimators=30;, score=1.000 total time=   0.0s\n",
            "[CV 2/5] END criterion=gini, max_depth=15, n_estimators=30;, score=0.905 total time=   0.0s\n",
            "[CV 3/5] END criterion=gini, max_depth=15, n_estimators=30;, score=1.000 total time=   0.0s\n",
            "[CV 4/5] END criterion=gini, max_depth=15, n_estimators=30;, score=0.905 total time=   0.0s\n",
            "[CV 5/5] END criterion=gini, max_depth=15, n_estimators=30;, score=0.857 total time=   0.0s\n",
            "[CV 1/5] END criterion=gini, max_depth=15, n_estimators=40;, score=1.000 total time=   0.1s\n",
            "[CV 2/5] END criterion=gini, max_depth=15, n_estimators=40;, score=0.952 total time=   0.1s\n",
            "[CV 3/5] END criterion=gini, max_depth=15, n_estimators=40;, score=1.000 total time=   0.1s\n",
            "[CV 4/5] END criterion=gini, max_depth=15, n_estimators=40;, score=0.905 total time=   0.1s\n",
            "[CV 5/5] END criterion=gini, max_depth=15, n_estimators=40;, score=0.857 total time=   0.1s\n",
            "[CV 1/5] END criterion=gini, max_depth=15, n_estimators=50;, score=1.000 total time=   0.1s\n",
            "[CV 2/5] END criterion=gini, max_depth=15, n_estimators=50;, score=0.952 total time=   0.1s\n",
            "[CV 3/5] END criterion=gini, max_depth=15, n_estimators=50;, score=0.952 total time=   0.1s\n",
            "[CV 4/5] END criterion=gini, max_depth=15, n_estimators=50;, score=0.905 total time=   0.1s\n",
            "[CV 5/5] END criterion=gini, max_depth=15, n_estimators=50;, score=0.857 total time=   0.1s\n",
            "[CV 1/5] END criterion=gini, max_depth=15, n_estimators=60;, score=1.000 total time=   0.1s\n",
            "[CV 2/5] END criterion=gini, max_depth=15, n_estimators=60;, score=0.952 total time=   0.1s\n",
            "[CV 3/5] END criterion=gini, max_depth=15, n_estimators=60;, score=1.000 total time=   0.1s\n",
            "[CV 4/5] END criterion=gini, max_depth=15, n_estimators=60;, score=0.905 total time=   0.1s\n",
            "[CV 5/5] END criterion=gini, max_depth=15, n_estimators=60;, score=0.857 total time=   0.1s\n",
            "[CV 1/5] END criterion=gini, max_depth=20, n_estimators=10;, score=1.000 total time=   0.0s\n",
            "[CV 2/5] END criterion=gini, max_depth=20, n_estimators=10;, score=0.952 total time=   0.0s\n",
            "[CV 3/5] END criterion=gini, max_depth=20, n_estimators=10;, score=1.000 total time=   0.0s\n",
            "[CV 4/5] END criterion=gini, max_depth=20, n_estimators=10;, score=0.905 total time=   0.0s\n",
            "[CV 5/5] END criterion=gini, max_depth=20, n_estimators=10;, score=0.857 total time=   0.0s\n",
            "[CV 1/5] END criterion=gini, max_depth=20, n_estimators=20;, score=1.000 total time=   0.0s\n",
            "[CV 2/5] END criterion=gini, max_depth=20, n_estimators=20;, score=0.952 total time=   0.0s\n",
            "[CV 3/5] END criterion=gini, max_depth=20, n_estimators=20;, score=0.905 total time=   0.0s\n",
            "[CV 4/5] END criterion=gini, max_depth=20, n_estimators=20;, score=0.905 total time=   0.0s\n",
            "[CV 5/5] END criterion=gini, max_depth=20, n_estimators=20;, score=0.857 total time=   0.0s\n",
            "[CV 1/5] END criterion=gini, max_depth=20, n_estimators=30;, score=1.000 total time=   0.0s\n",
            "[CV 2/5] END criterion=gini, max_depth=20, n_estimators=30;, score=0.952 total time=   0.0s\n",
            "[CV 3/5] END criterion=gini, max_depth=20, n_estimators=30;, score=0.905 total time=   0.0s\n",
            "[CV 4/5] END criterion=gini, max_depth=20, n_estimators=30;, score=0.952 total time=   0.0s\n",
            "[CV 5/5] END criterion=gini, max_depth=20, n_estimators=30;, score=0.857 total time=   0.0s\n",
            "[CV 1/5] END criterion=gini, max_depth=20, n_estimators=40;, score=1.000 total time=   0.1s\n",
            "[CV 2/5] END criterion=gini, max_depth=20, n_estimators=40;, score=0.952 total time=   0.1s\n",
            "[CV 3/5] END criterion=gini, max_depth=20, n_estimators=40;, score=1.000 total time=   0.1s\n",
            "[CV 4/5] END criterion=gini, max_depth=20, n_estimators=40;, score=0.952 total time=   0.1s\n",
            "[CV 5/5] END criterion=gini, max_depth=20, n_estimators=40;, score=0.857 total time=   0.1s\n",
            "[CV 1/5] END criterion=gini, max_depth=20, n_estimators=50;, score=1.000 total time=   0.1s\n",
            "[CV 2/5] END criterion=gini, max_depth=20, n_estimators=50;, score=0.952 total time=   0.1s\n",
            "[CV 3/5] END criterion=gini, max_depth=20, n_estimators=50;, score=1.000 total time=   0.1s\n",
            "[CV 4/5] END criterion=gini, max_depth=20, n_estimators=50;, score=0.905 total time=   0.1s\n",
            "[CV 5/5] END criterion=gini, max_depth=20, n_estimators=50;, score=0.857 total time=   0.1s\n",
            "[CV 1/5] END criterion=gini, max_depth=20, n_estimators=60;, score=1.000 total time=   0.1s\n",
            "[CV 2/5] END criterion=gini, max_depth=20, n_estimators=60;, score=0.952 total time=   0.1s\n",
            "[CV 3/5] END criterion=gini, max_depth=20, n_estimators=60;, score=1.000 total time=   0.1s\n",
            "[CV 4/5] END criterion=gini, max_depth=20, n_estimators=60;, score=0.952 total time=   0.1s\n",
            "[CV 5/5] END criterion=gini, max_depth=20, n_estimators=60;, score=0.857 total time=   0.1s\n",
            "[CV 1/5] END criterion=gini, max_depth=25, n_estimators=10;, score=1.000 total time=   0.0s\n",
            "[CV 2/5] END criterion=gini, max_depth=25, n_estimators=10;, score=0.952 total time=   0.0s\n",
            "[CV 3/5] END criterion=gini, max_depth=25, n_estimators=10;, score=1.000 total time=   0.0s\n",
            "[CV 4/5] END criterion=gini, max_depth=25, n_estimators=10;, score=0.952 total time=   0.0s\n",
            "[CV 5/5] END criterion=gini, max_depth=25, n_estimators=10;, score=0.857 total time=   0.0s\n",
            "[CV 1/5] END criterion=gini, max_depth=25, n_estimators=20;, score=1.000 total time=   0.0s\n",
            "[CV 2/5] END criterion=gini, max_depth=25, n_estimators=20;, score=0.952 total time=   0.0s\n",
            "[CV 3/5] END criterion=gini, max_depth=25, n_estimators=20;, score=1.000 total time=   0.0s\n",
            "[CV 4/5] END criterion=gini, max_depth=25, n_estimators=20;, score=0.905 total time=   0.0s\n",
            "[CV 5/5] END criterion=gini, max_depth=25, n_estimators=20;, score=0.857 total time=   0.0s\n",
            "[CV 1/5] END criterion=gini, max_depth=25, n_estimators=30;, score=1.000 total time=   0.0s\n",
            "[CV 2/5] END criterion=gini, max_depth=25, n_estimators=30;, score=0.952 total time=   0.0s\n",
            "[CV 3/5] END criterion=gini, max_depth=25, n_estimators=30;, score=1.000 total time=   0.0s\n",
            "[CV 4/5] END criterion=gini, max_depth=25, n_estimators=30;, score=0.905 total time=   0.0s\n",
            "[CV 5/5] END criterion=gini, max_depth=25, n_estimators=30;, score=0.857 total time=   0.0s\n",
            "[CV 1/5] END criterion=gini, max_depth=25, n_estimators=40;, score=1.000 total time=   0.1s\n",
            "[CV 2/5] END criterion=gini, max_depth=25, n_estimators=40;, score=0.952 total time=   0.1s\n",
            "[CV 3/5] END criterion=gini, max_depth=25, n_estimators=40;, score=1.000 total time=   0.1s\n",
            "[CV 4/5] END criterion=gini, max_depth=25, n_estimators=40;, score=0.952 total time=   0.1s\n",
            "[CV 5/5] END criterion=gini, max_depth=25, n_estimators=40;, score=0.857 total time=   0.1s\n",
            "[CV 1/5] END criterion=gini, max_depth=25, n_estimators=50;, score=1.000 total time=   0.1s\n",
            "[CV 2/5] END criterion=gini, max_depth=25, n_estimators=50;, score=0.952 total time=   0.1s\n",
            "[CV 3/5] END criterion=gini, max_depth=25, n_estimators=50;, score=1.000 total time=   0.1s\n",
            "[CV 4/5] END criterion=gini, max_depth=25, n_estimators=50;, score=0.952 total time=   0.1s\n",
            "[CV 5/5] END criterion=gini, max_depth=25, n_estimators=50;, score=0.857 total time=   0.1s\n",
            "[CV 1/5] END criterion=gini, max_depth=25, n_estimators=60;, score=1.000 total time=   0.1s\n",
            "[CV 2/5] END criterion=gini, max_depth=25, n_estimators=60;, score=0.905 total time=   0.1s\n",
            "[CV 3/5] END criterion=gini, max_depth=25, n_estimators=60;, score=1.000 total time=   0.1s\n",
            "[CV 4/5] END criterion=gini, max_depth=25, n_estimators=60;, score=0.952 total time=   0.1s\n",
            "[CV 5/5] END criterion=gini, max_depth=25, n_estimators=60;, score=0.857 total time=   0.1s\n",
            "[CV 1/5] END criterion=gini, max_depth=30, n_estimators=10;, score=1.000 total time=   0.0s\n",
            "[CV 2/5] END criterion=gini, max_depth=30, n_estimators=10;, score=0.905 total time=   0.0s\n",
            "[CV 3/5] END criterion=gini, max_depth=30, n_estimators=10;, score=0.905 total time=   0.0s\n",
            "[CV 4/5] END criterion=gini, max_depth=30, n_estimators=10;, score=0.905 total time=   0.0s\n",
            "[CV 5/5] END criterion=gini, max_depth=30, n_estimators=10;, score=0.857 total time=   0.0s\n",
            "[CV 1/5] END criterion=gini, max_depth=30, n_estimators=20;, score=1.000 total time=   0.0s\n",
            "[CV 2/5] END criterion=gini, max_depth=30, n_estimators=20;, score=0.952 total time=   0.0s\n",
            "[CV 3/5] END criterion=gini, max_depth=30, n_estimators=20;, score=1.000 total time=   0.0s\n",
            "[CV 4/5] END criterion=gini, max_depth=30, n_estimators=20;, score=0.905 total time=   0.0s\n",
            "[CV 5/5] END criterion=gini, max_depth=30, n_estimators=20;, score=0.857 total time=   0.0s\n",
            "[CV 1/5] END criterion=gini, max_depth=30, n_estimators=30;, score=1.000 total time=   0.0s\n",
            "[CV 2/5] END criterion=gini, max_depth=30, n_estimators=30;, score=0.952 total time=   0.0s\n",
            "[CV 3/5] END criterion=gini, max_depth=30, n_estimators=30;, score=1.000 total time=   0.1s\n",
            "[CV 4/5] END criterion=gini, max_depth=30, n_estimators=30;, score=0.905 total time=   0.0s\n",
            "[CV 5/5] END criterion=gini, max_depth=30, n_estimators=30;, score=0.857 total time=   0.0s\n",
            "[CV 1/5] END criterion=gini, max_depth=30, n_estimators=40;, score=1.000 total time=   0.1s\n",
            "[CV 2/5] END criterion=gini, max_depth=30, n_estimators=40;, score=0.952 total time=   0.1s\n",
            "[CV 3/5] END criterion=gini, max_depth=30, n_estimators=40;, score=1.000 total time=   0.1s\n",
            "[CV 4/5] END criterion=gini, max_depth=30, n_estimators=40;, score=0.905 total time=   0.1s\n",
            "[CV 5/5] END criterion=gini, max_depth=30, n_estimators=40;, score=0.857 total time=   0.1s\n",
            "[CV 1/5] END criterion=gini, max_depth=30, n_estimators=50;, score=1.000 total time=   0.1s\n",
            "[CV 2/5] END criterion=gini, max_depth=30, n_estimators=50;, score=0.952 total time=   0.1s\n",
            "[CV 3/5] END criterion=gini, max_depth=30, n_estimators=50;, score=1.000 total time=   0.1s\n",
            "[CV 4/5] END criterion=gini, max_depth=30, n_estimators=50;, score=0.952 total time=   0.1s\n",
            "[CV 5/5] END criterion=gini, max_depth=30, n_estimators=50;, score=0.857 total time=   0.1s\n",
            "[CV 1/5] END criterion=gini, max_depth=30, n_estimators=60;, score=1.000 total time=   0.1s\n",
            "[CV 2/5] END criterion=gini, max_depth=30, n_estimators=60;, score=0.952 total time=   0.1s\n",
            "[CV 3/5] END criterion=gini, max_depth=30, n_estimators=60;, score=1.000 total time=   0.1s\n",
            "[CV 4/5] END criterion=gini, max_depth=30, n_estimators=60;, score=0.952 total time=   0.1s\n",
            "[CV 5/5] END criterion=gini, max_depth=30, n_estimators=60;, score=0.857 total time=   0.1s\n",
            "[CV 1/5] END criterion=gini, max_depth=None, n_estimators=10;, score=nan total time=   0.0s\n",
            "[CV 2/5] END criterion=gini, max_depth=None, n_estimators=10;, score=nan total time=   0.0s\n",
            "[CV 3/5] END criterion=gini, max_depth=None, n_estimators=10;, score=nan total time=   0.0s\n",
            "[CV 4/5] END criterion=gini, max_depth=None, n_estimators=10;, score=nan total time=   0.0s\n",
            "[CV 5/5] END criterion=gini, max_depth=None, n_estimators=10;, score=nan total time=   0.0s\n",
            "[CV 1/5] END criterion=gini, max_depth=None, n_estimators=20;, score=nan total time=   0.0s\n",
            "[CV 2/5] END criterion=gini, max_depth=None, n_estimators=20;, score=nan total time=   0.0s\n",
            "[CV 3/5] END criterion=gini, max_depth=None, n_estimators=20;, score=nan total time=   0.0s\n",
            "[CV 4/5] END criterion=gini, max_depth=None, n_estimators=20;, score=nan total time=   0.0s\n",
            "[CV 5/5] END criterion=gini, max_depth=None, n_estimators=20;, score=nan total time=   0.0s\n",
            "[CV 1/5] END criterion=gini, max_depth=None, n_estimators=30;, score=nan total time=   0.0s\n",
            "[CV 2/5] END criterion=gini, max_depth=None, n_estimators=30;, score=nan total time=   0.0s\n",
            "[CV 3/5] END criterion=gini, max_depth=None, n_estimators=30;, score=nan total time=   0.0s\n",
            "[CV 4/5] END criterion=gini, max_depth=None, n_estimators=30;, score=nan total time=   0.0s\n",
            "[CV 5/5] END criterion=gini, max_depth=None, n_estimators=30;, score=nan total time=   0.0s\n",
            "[CV 1/5] END criterion=gini, max_depth=None, n_estimators=40;, score=nan total time=   0.0s\n",
            "[CV 2/5] END criterion=gini, max_depth=None, n_estimators=40;, score=nan total time=   0.0s\n",
            "[CV 3/5] END criterion=gini, max_depth=None, n_estimators=40;, score=nan total time=   0.0s\n",
            "[CV 4/5] END criterion=gini, max_depth=None, n_estimators=40;, score=nan total time=   0.0s\n",
            "[CV 5/5] END criterion=gini, max_depth=None, n_estimators=40;, score=nan total time=   0.0s\n",
            "[CV 1/5] END criterion=gini, max_depth=None, n_estimators=50;, score=nan total time=   0.0s\n",
            "[CV 2/5] END criterion=gini, max_depth=None, n_estimators=50;, score=nan total time=   0.0s\n",
            "[CV 3/5] END criterion=gini, max_depth=None, n_estimators=50;, score=nan total time=   0.0s\n",
            "[CV 4/5] END criterion=gini, max_depth=None, n_estimators=50;, score=nan total time=   0.0s\n",
            "[CV 5/5] END criterion=gini, max_depth=None, n_estimators=50;, score=nan total time=   0.0s\n",
            "[CV 1/5] END criterion=gini, max_depth=None, n_estimators=60;, score=nan total time=   0.0s\n",
            "[CV 2/5] END criterion=gini, max_depth=None, n_estimators=60;, score=nan total time=   0.0s\n",
            "[CV 3/5] END criterion=gini, max_depth=None, n_estimators=60;, score=nan total time=   0.0s\n",
            "[CV 4/5] END criterion=gini, max_depth=None, n_estimators=60;, score=nan total time=   0.0s\n",
            "[CV 5/5] END criterion=gini, max_depth=None, n_estimators=60;, score=nan total time=   0.0s\n",
            "[CV 1/5] END criterion=entropy, max_depth=5, n_estimators=10;, score=1.000 total time=   0.0s\n",
            "[CV 2/5] END criterion=entropy, max_depth=5, n_estimators=10;, score=1.000 total time=   0.0s\n",
            "[CV 3/5] END criterion=entropy, max_depth=5, n_estimators=10;, score=0.905 total time=   0.0s\n",
            "[CV 4/5] END criterion=entropy, max_depth=5, n_estimators=10;, score=0.905 total time=   0.0s\n",
            "[CV 5/5] END criterion=entropy, max_depth=5, n_estimators=10;, score=0.857 total time=   0.0s\n",
            "[CV 1/5] END criterion=entropy, max_depth=5, n_estimators=20;, score=1.000 total time=   0.0s\n",
            "[CV 2/5] END criterion=entropy, max_depth=5, n_estimators=20;, score=0.905 total time=   0.0s\n",
            "[CV 3/5] END criterion=entropy, max_depth=5, n_estimators=20;, score=1.000 total time=   0.0s\n",
            "[CV 4/5] END criterion=entropy, max_depth=5, n_estimators=20;, score=0.952 total time=   0.0s\n",
            "[CV 5/5] END criterion=entropy, max_depth=5, n_estimators=20;, score=0.857 total time=   0.0s\n",
            "[CV 1/5] END criterion=entropy, max_depth=5, n_estimators=30;, score=1.000 total time=   0.0s\n",
            "[CV 2/5] END criterion=entropy, max_depth=5, n_estimators=30;, score=0.952 total time=   0.0s\n",
            "[CV 3/5] END criterion=entropy, max_depth=5, n_estimators=30;, score=1.000 total time=   0.0s\n",
            "[CV 4/5] END criterion=entropy, max_depth=5, n_estimators=30;, score=0.952 total time=   0.1s\n",
            "[CV 5/5] END criterion=entropy, max_depth=5, n_estimators=30;, score=0.857 total time=   0.0s\n",
            "[CV 1/5] END criterion=entropy, max_depth=5, n_estimators=40;, score=1.000 total time=   0.1s\n",
            "[CV 2/5] END criterion=entropy, max_depth=5, n_estimators=40;, score=0.952 total time=   0.1s\n",
            "[CV 3/5] END criterion=entropy, max_depth=5, n_estimators=40;, score=1.000 total time=   0.1s\n",
            "[CV 4/5] END criterion=entropy, max_depth=5, n_estimators=40;, score=0.952 total time=   0.1s\n",
            "[CV 5/5] END criterion=entropy, max_depth=5, n_estimators=40;, score=0.857 total time=   0.1s\n",
            "[CV 1/5] END criterion=entropy, max_depth=5, n_estimators=50;, score=1.000 total time=   0.1s\n",
            "[CV 2/5] END criterion=entropy, max_depth=5, n_estimators=50;, score=0.952 total time=   0.1s\n",
            "[CV 3/5] END criterion=entropy, max_depth=5, n_estimators=50;, score=1.000 total time=   0.1s\n",
            "[CV 4/5] END criterion=entropy, max_depth=5, n_estimators=50;, score=0.905 total time=   0.1s\n",
            "[CV 5/5] END criterion=entropy, max_depth=5, n_estimators=50;, score=0.857 total time=   0.1s\n",
            "[CV 1/5] END criterion=entropy, max_depth=5, n_estimators=60;, score=1.000 total time=   0.1s\n",
            "[CV 2/5] END criterion=entropy, max_depth=5, n_estimators=60;, score=0.952 total time=   0.1s\n",
            "[CV 3/5] END criterion=entropy, max_depth=5, n_estimators=60;, score=1.000 total time=   0.1s\n",
            "[CV 4/5] END criterion=entropy, max_depth=5, n_estimators=60;, score=0.905 total time=   0.1s\n",
            "[CV 5/5] END criterion=entropy, max_depth=5, n_estimators=60;, score=0.857 total time=   0.1s\n",
            "[CV 1/5] END criterion=entropy, max_depth=10, n_estimators=10;, score=1.000 total time=   0.0s\n",
            "[CV 2/5] END criterion=entropy, max_depth=10, n_estimators=10;, score=0.952 total time=   0.0s\n",
            "[CV 3/5] END criterion=entropy, max_depth=10, n_estimators=10;, score=1.000 total time=   0.0s\n",
            "[CV 4/5] END criterion=entropy, max_depth=10, n_estimators=10;, score=0.905 total time=   0.0s\n",
            "[CV 5/5] END criterion=entropy, max_depth=10, n_estimators=10;, score=0.857 total time=   0.0s\n",
            "[CV 1/5] END criterion=entropy, max_depth=10, n_estimators=20;, score=1.000 total time=   0.0s\n",
            "[CV 2/5] END criterion=entropy, max_depth=10, n_estimators=20;, score=0.952 total time=   0.0s\n",
            "[CV 3/5] END criterion=entropy, max_depth=10, n_estimators=20;, score=1.000 total time=   0.0s\n",
            "[CV 4/5] END criterion=entropy, max_depth=10, n_estimators=20;, score=0.952 total time=   0.0s\n",
            "[CV 5/5] END criterion=entropy, max_depth=10, n_estimators=20;, score=0.857 total time=   0.0s\n",
            "[CV 1/5] END criterion=entropy, max_depth=10, n_estimators=30;, score=1.000 total time=   0.0s\n",
            "[CV 2/5] END criterion=entropy, max_depth=10, n_estimators=30;, score=0.952 total time=   0.1s\n",
            "[CV 3/5] END criterion=entropy, max_depth=10, n_estimators=30;, score=1.000 total time=   0.0s\n",
            "[CV 4/5] END criterion=entropy, max_depth=10, n_estimators=30;, score=0.905 total time=   0.0s\n",
            "[CV 5/5] END criterion=entropy, max_depth=10, n_estimators=30;, score=0.857 total time=   0.0s\n",
            "[CV 1/5] END criterion=entropy, max_depth=10, n_estimators=40;, score=1.000 total time=   0.1s\n",
            "[CV 2/5] END criterion=entropy, max_depth=10, n_estimators=40;, score=0.952 total time=   0.1s\n",
            "[CV 3/5] END criterion=entropy, max_depth=10, n_estimators=40;, score=1.000 total time=   0.1s\n",
            "[CV 4/5] END criterion=entropy, max_depth=10, n_estimators=40;, score=0.905 total time=   0.1s\n",
            "[CV 5/5] END criterion=entropy, max_depth=10, n_estimators=40;, score=0.857 total time=   0.1s\n",
            "[CV 1/5] END criterion=entropy, max_depth=10, n_estimators=50;, score=1.000 total time=   0.1s\n",
            "[CV 2/5] END criterion=entropy, max_depth=10, n_estimators=50;, score=0.952 total time=   0.1s\n",
            "[CV 3/5] END criterion=entropy, max_depth=10, n_estimators=50;, score=1.000 total time=   0.1s\n",
            "[CV 4/5] END criterion=entropy, max_depth=10, n_estimators=50;, score=0.905 total time=   0.1s\n",
            "[CV 5/5] END criterion=entropy, max_depth=10, n_estimators=50;, score=0.857 total time=   0.1s\n",
            "[CV 1/5] END criterion=entropy, max_depth=10, n_estimators=60;, score=1.000 total time=   0.1s\n",
            "[CV 2/5] END criterion=entropy, max_depth=10, n_estimators=60;, score=0.952 total time=   0.1s\n",
            "[CV 3/5] END criterion=entropy, max_depth=10, n_estimators=60;, score=1.000 total time=   0.1s\n",
            "[CV 4/5] END criterion=entropy, max_depth=10, n_estimators=60;, score=0.905 total time=   0.1s\n",
            "[CV 5/5] END criterion=entropy, max_depth=10, n_estimators=60;, score=0.857 total time=   0.1s\n",
            "[CV 1/5] END criterion=entropy, max_depth=15, n_estimators=10;, score=1.000 total time=   0.0s\n",
            "[CV 2/5] END criterion=entropy, max_depth=15, n_estimators=10;, score=0.905 total time=   0.0s\n",
            "[CV 3/5] END criterion=entropy, max_depth=15, n_estimators=10;, score=1.000 total time=   0.0s\n",
            "[CV 4/5] END criterion=entropy, max_depth=15, n_estimators=10;, score=0.952 total time=   0.0s\n",
            "[CV 5/5] END criterion=entropy, max_depth=15, n_estimators=10;, score=0.857 total time=   0.0s\n",
            "[CV 1/5] END criterion=entropy, max_depth=15, n_estimators=20;, score=1.000 total time=   0.1s\n",
            "[CV 2/5] END criterion=entropy, max_depth=15, n_estimators=20;, score=0.952 total time=   0.1s\n",
            "[CV 3/5] END criterion=entropy, max_depth=15, n_estimators=20;, score=0.952 total time=   0.1s\n",
            "[CV 4/5] END criterion=entropy, max_depth=15, n_estimators=20;, score=0.952 total time=   0.1s\n",
            "[CV 5/5] END criterion=entropy, max_depth=15, n_estimators=20;, score=0.857 total time=   0.1s\n",
            "[CV 1/5] END criterion=entropy, max_depth=15, n_estimators=30;, score=1.000 total time=   0.1s\n",
            "[CV 2/5] END criterion=entropy, max_depth=15, n_estimators=30;, score=0.952 total time=   0.1s\n",
            "[CV 3/5] END criterion=entropy, max_depth=15, n_estimators=30;, score=0.952 total time=   0.1s\n",
            "[CV 4/5] END criterion=entropy, max_depth=15, n_estimators=30;, score=0.952 total time=   0.1s\n",
            "[CV 5/5] END criterion=entropy, max_depth=15, n_estimators=30;, score=0.857 total time=   0.1s\n",
            "[CV 1/5] END criterion=entropy, max_depth=15, n_estimators=40;, score=1.000 total time=   0.1s\n",
            "[CV 2/5] END criterion=entropy, max_depth=15, n_estimators=40;, score=0.952 total time=   0.1s\n",
            "[CV 3/5] END criterion=entropy, max_depth=15, n_estimators=40;, score=1.000 total time=   0.1s\n",
            "[CV 4/5] END criterion=entropy, max_depth=15, n_estimators=40;, score=0.905 total time=   0.1s\n",
            "[CV 5/5] END criterion=entropy, max_depth=15, n_estimators=40;, score=0.857 total time=   0.1s\n",
            "[CV 1/5] END criterion=entropy, max_depth=15, n_estimators=50;, score=1.000 total time=   0.1s\n",
            "[CV 2/5] END criterion=entropy, max_depth=15, n_estimators=50;, score=0.952 total time=   0.1s\n",
            "[CV 3/5] END criterion=entropy, max_depth=15, n_estimators=50;, score=1.000 total time=   0.1s\n",
            "[CV 4/5] END criterion=entropy, max_depth=15, n_estimators=50;, score=0.905 total time=   0.1s\n",
            "[CV 5/5] END criterion=entropy, max_depth=15, n_estimators=50;, score=0.857 total time=   0.1s\n",
            "[CV 1/5] END criterion=entropy, max_depth=15, n_estimators=60;, score=1.000 total time=   0.1s\n",
            "[CV 2/5] END criterion=entropy, max_depth=15, n_estimators=60;, score=0.952 total time=   0.2s\n",
            "[CV 3/5] END criterion=entropy, max_depth=15, n_estimators=60;, score=1.000 total time=   0.1s\n",
            "[CV 4/5] END criterion=entropy, max_depth=15, n_estimators=60;, score=0.905 total time=   0.1s\n",
            "[CV 5/5] END criterion=entropy, max_depth=15, n_estimators=60;, score=0.857 total time=   0.2s\n",
            "[CV 1/5] END criterion=entropy, max_depth=20, n_estimators=10;, score=1.000 total time=   0.0s\n",
            "[CV 2/5] END criterion=entropy, max_depth=20, n_estimators=10;, score=0.857 total time=   0.0s\n",
            "[CV 3/5] END criterion=entropy, max_depth=20, n_estimators=10;, score=0.952 total time=   0.0s\n",
            "[CV 4/5] END criterion=entropy, max_depth=20, n_estimators=10;, score=0.905 total time=   0.0s\n",
            "[CV 5/5] END criterion=entropy, max_depth=20, n_estimators=10;, score=0.857 total time=   0.0s\n",
            "[CV 1/5] END criterion=entropy, max_depth=20, n_estimators=20;, score=1.000 total time=   0.1s\n",
            "[CV 2/5] END criterion=entropy, max_depth=20, n_estimators=20;, score=0.905 total time=   0.0s\n",
            "[CV 3/5] END criterion=entropy, max_depth=20, n_estimators=20;, score=1.000 total time=   0.0s\n",
            "[CV 4/5] END criterion=entropy, max_depth=20, n_estimators=20;, score=0.905 total time=   0.0s\n",
            "[CV 5/5] END criterion=entropy, max_depth=20, n_estimators=20;, score=0.857 total time=   0.0s\n",
            "[CV 1/5] END criterion=entropy, max_depth=20, n_estimators=30;, score=1.000 total time=   0.0s\n",
            "[CV 2/5] END criterion=entropy, max_depth=20, n_estimators=30;, score=0.952 total time=   0.0s\n",
            "[CV 3/5] END criterion=entropy, max_depth=20, n_estimators=30;, score=0.952 total time=   0.0s\n",
            "[CV 4/5] END criterion=entropy, max_depth=20, n_estimators=30;, score=0.905 total time=   0.1s\n",
            "[CV 5/5] END criterion=entropy, max_depth=20, n_estimators=30;, score=0.857 total time=   0.0s\n",
            "[CV 1/5] END criterion=entropy, max_depth=20, n_estimators=40;, score=1.000 total time=   0.1s\n",
            "[CV 2/5] END criterion=entropy, max_depth=20, n_estimators=40;, score=0.952 total time=   0.1s\n",
            "[CV 3/5] END criterion=entropy, max_depth=20, n_estimators=40;, score=1.000 total time=   0.1s\n",
            "[CV 4/5] END criterion=entropy, max_depth=20, n_estimators=40;, score=0.905 total time=   0.1s\n",
            "[CV 5/5] END criterion=entropy, max_depth=20, n_estimators=40;, score=0.857 total time=   0.1s\n",
            "[CV 1/5] END criterion=entropy, max_depth=20, n_estimators=50;, score=1.000 total time=   0.1s\n",
            "[CV 2/5] END criterion=entropy, max_depth=20, n_estimators=50;, score=0.952 total time=   0.1s\n",
            "[CV 3/5] END criterion=entropy, max_depth=20, n_estimators=50;, score=1.000 total time=   0.1s\n",
            "[CV 4/5] END criterion=entropy, max_depth=20, n_estimators=50;, score=0.905 total time=   0.1s\n",
            "[CV 5/5] END criterion=entropy, max_depth=20, n_estimators=50;, score=0.857 total time=   0.1s\n",
            "[CV 1/5] END criterion=entropy, max_depth=20, n_estimators=60;, score=1.000 total time=   0.1s\n",
            "[CV 2/5] END criterion=entropy, max_depth=20, n_estimators=60;, score=0.952 total time=   0.1s\n",
            "[CV 3/5] END criterion=entropy, max_depth=20, n_estimators=60;, score=1.000 total time=   0.1s\n",
            "[CV 4/5] END criterion=entropy, max_depth=20, n_estimators=60;, score=0.952 total time=   0.1s\n",
            "[CV 5/5] END criterion=entropy, max_depth=20, n_estimators=60;, score=0.857 total time=   0.1s\n",
            "[CV 1/5] END criterion=entropy, max_depth=25, n_estimators=10;, score=1.000 total time=   0.0s\n",
            "[CV 2/5] END criterion=entropy, max_depth=25, n_estimators=10;, score=0.952 total time=   0.0s\n",
            "[CV 3/5] END criterion=entropy, max_depth=25, n_estimators=10;, score=1.000 total time=   0.0s\n",
            "[CV 4/5] END criterion=entropy, max_depth=25, n_estimators=10;, score=0.905 total time=   0.0s\n",
            "[CV 5/5] END criterion=entropy, max_depth=25, n_estimators=10;, score=0.857 total time=   0.0s\n",
            "[CV 1/5] END criterion=entropy, max_depth=25, n_estimators=20;, score=1.000 total time=   0.0s\n",
            "[CV 2/5] END criterion=entropy, max_depth=25, n_estimators=20;, score=0.952 total time=   0.0s\n",
            "[CV 3/5] END criterion=entropy, max_depth=25, n_estimators=20;, score=1.000 total time=   0.0s\n",
            "[CV 4/5] END criterion=entropy, max_depth=25, n_estimators=20;, score=0.952 total time=   0.0s\n",
            "[CV 5/5] END criterion=entropy, max_depth=25, n_estimators=20;, score=0.857 total time=   0.0s\n",
            "[CV 1/5] END criterion=entropy, max_depth=25, n_estimators=30;, score=1.000 total time=   0.0s\n",
            "[CV 2/5] END criterion=entropy, max_depth=25, n_estimators=30;, score=0.952 total time=   0.1s\n",
            "[CV 3/5] END criterion=entropy, max_depth=25, n_estimators=30;, score=1.000 total time=   0.0s\n",
            "[CV 4/5] END criterion=entropy, max_depth=25, n_estimators=30;, score=0.952 total time=   0.0s\n",
            "[CV 5/5] END criterion=entropy, max_depth=25, n_estimators=30;, score=0.857 total time=   0.0s\n",
            "[CV 1/5] END criterion=entropy, max_depth=25, n_estimators=40;, score=1.000 total time=   0.1s\n",
            "[CV 2/5] END criterion=entropy, max_depth=25, n_estimators=40;, score=0.905 total time=   0.1s\n",
            "[CV 3/5] END criterion=entropy, max_depth=25, n_estimators=40;, score=0.952 total time=   0.1s\n",
            "[CV 4/5] END criterion=entropy, max_depth=25, n_estimators=40;, score=0.952 total time=   0.1s\n",
            "[CV 5/5] END criterion=entropy, max_depth=25, n_estimators=40;, score=0.857 total time=   0.1s\n",
            "[CV 1/5] END criterion=entropy, max_depth=25, n_estimators=50;, score=1.000 total time=   0.1s\n",
            "[CV 2/5] END criterion=entropy, max_depth=25, n_estimators=50;, score=0.952 total time=   0.1s\n",
            "[CV 3/5] END criterion=entropy, max_depth=25, n_estimators=50;, score=1.000 total time=   0.1s\n",
            "[CV 4/5] END criterion=entropy, max_depth=25, n_estimators=50;, score=0.905 total time=   0.1s\n",
            "[CV 5/5] END criterion=entropy, max_depth=25, n_estimators=50;, score=0.857 total time=   0.1s\n",
            "[CV 1/5] END criterion=entropy, max_depth=25, n_estimators=60;, score=1.000 total time=   0.1s\n",
            "[CV 2/5] END criterion=entropy, max_depth=25, n_estimators=60;, score=0.905 total time=   0.1s\n",
            "[CV 3/5] END criterion=entropy, max_depth=25, n_estimators=60;, score=1.000 total time=   0.1s\n",
            "[CV 4/5] END criterion=entropy, max_depth=25, n_estimators=60;, score=0.905 total time=   0.1s\n",
            "[CV 5/5] END criterion=entropy, max_depth=25, n_estimators=60;, score=0.857 total time=   0.1s\n",
            "[CV 1/5] END criterion=entropy, max_depth=30, n_estimators=10;, score=1.000 total time=   0.0s\n",
            "[CV 2/5] END criterion=entropy, max_depth=30, n_estimators=10;, score=0.905 total time=   0.0s\n",
            "[CV 3/5] END criterion=entropy, max_depth=30, n_estimators=10;, score=1.000 total time=   0.0s\n",
            "[CV 4/5] END criterion=entropy, max_depth=30, n_estimators=10;, score=0.905 total time=   0.0s\n",
            "[CV 5/5] END criterion=entropy, max_depth=30, n_estimators=10;, score=0.857 total time=   0.0s\n",
            "[CV 1/5] END criterion=entropy, max_depth=30, n_estimators=20;, score=1.000 total time=   0.0s\n",
            "[CV 2/5] END criterion=entropy, max_depth=30, n_estimators=20;, score=0.905 total time=   0.0s\n",
            "[CV 3/5] END criterion=entropy, max_depth=30, n_estimators=20;, score=1.000 total time=   0.0s\n",
            "[CV 4/5] END criterion=entropy, max_depth=30, n_estimators=20;, score=0.952 total time=   0.0s\n",
            "[CV 5/5] END criterion=entropy, max_depth=30, n_estimators=20;, score=0.857 total time=   0.0s\n",
            "[CV 1/5] END criterion=entropy, max_depth=30, n_estimators=30;, score=1.000 total time=   0.0s\n",
            "[CV 2/5] END criterion=entropy, max_depth=30, n_estimators=30;, score=0.952 total time=   0.0s\n",
            "[CV 3/5] END criterion=entropy, max_depth=30, n_estimators=30;, score=0.952 total time=   0.0s\n",
            "[CV 4/5] END criterion=entropy, max_depth=30, n_estimators=30;, score=0.952 total time=   0.0s\n",
            "[CV 5/5] END criterion=entropy, max_depth=30, n_estimators=30;, score=0.857 total time=   0.0s\n",
            "[CV 1/5] END criterion=entropy, max_depth=30, n_estimators=40;, score=1.000 total time=   0.1s\n",
            "[CV 2/5] END criterion=entropy, max_depth=30, n_estimators=40;, score=0.952 total time=   0.1s\n",
            "[CV 3/5] END criterion=entropy, max_depth=30, n_estimators=40;, score=1.000 total time=   0.1s\n",
            "[CV 4/5] END criterion=entropy, max_depth=30, n_estimators=40;, score=0.905 total time=   0.1s\n",
            "[CV 5/5] END criterion=entropy, max_depth=30, n_estimators=40;, score=0.857 total time=   0.1s\n",
            "[CV 1/5] END criterion=entropy, max_depth=30, n_estimators=50;, score=1.000 total time=   0.1s\n",
            "[CV 2/5] END criterion=entropy, max_depth=30, n_estimators=50;, score=0.952 total time=   0.1s\n",
            "[CV 3/5] END criterion=entropy, max_depth=30, n_estimators=50;, score=1.000 total time=   0.1s\n",
            "[CV 4/5] END criterion=entropy, max_depth=30, n_estimators=50;, score=0.952 total time=   0.1s\n",
            "[CV 5/5] END criterion=entropy, max_depth=30, n_estimators=50;, score=0.857 total time=   0.1s\n",
            "[CV 1/5] END criterion=entropy, max_depth=30, n_estimators=60;, score=1.000 total time=   0.1s\n",
            "[CV 2/5] END criterion=entropy, max_depth=30, n_estimators=60;, score=0.952 total time=   0.1s\n",
            "[CV 3/5] END criterion=entropy, max_depth=30, n_estimators=60;, score=1.000 total time=   0.1s\n",
            "[CV 4/5] END criterion=entropy, max_depth=30, n_estimators=60;, score=0.905 total time=   0.1s\n",
            "[CV 5/5] END criterion=entropy, max_depth=30, n_estimators=60;, score=0.857 total time=   0.1s\n",
            "[CV 1/5] END criterion=entropy, max_depth=None, n_estimators=10;, score=nan total time=   0.0s\n",
            "[CV 2/5] END criterion=entropy, max_depth=None, n_estimators=10;, score=nan total time=   0.0s\n",
            "[CV 3/5] END criterion=entropy, max_depth=None, n_estimators=10;, score=nan total time=   0.0s\n",
            "[CV 4/5] END criterion=entropy, max_depth=None, n_estimators=10;, score=nan total time=   0.0s\n",
            "[CV 5/5] END criterion=entropy, max_depth=None, n_estimators=10;, score=nan total time=   0.0s\n",
            "[CV 1/5] END criterion=entropy, max_depth=None, n_estimators=20;, score=nan total time=   0.0s\n",
            "[CV 2/5] END criterion=entropy, max_depth=None, n_estimators=20;, score=nan total time=   0.0s\n",
            "[CV 3/5] END criterion=entropy, max_depth=None, n_estimators=20;, score=nan total time=   0.0s\n",
            "[CV 4/5] END criterion=entropy, max_depth=None, n_estimators=20;, score=nan total time=   0.0s\n",
            "[CV 5/5] END criterion=entropy, max_depth=None, n_estimators=20;, score=nan total time=   0.0s\n",
            "[CV 1/5] END criterion=entropy, max_depth=None, n_estimators=30;, score=nan total time=   0.0s\n",
            "[CV 2/5] END criterion=entropy, max_depth=None, n_estimators=30;, score=nan total time=   0.0s\n",
            "[CV 3/5] END criterion=entropy, max_depth=None, n_estimators=30;, score=nan total time=   0.0s\n",
            "[CV 4/5] END criterion=entropy, max_depth=None, n_estimators=30;, score=nan total time=   0.0s\n",
            "[CV 5/5] END criterion=entropy, max_depth=None, n_estimators=30;, score=nan total time=   0.0s\n",
            "[CV 1/5] END criterion=entropy, max_depth=None, n_estimators=40;, score=nan total time=   0.0s\n",
            "[CV 2/5] END criterion=entropy, max_depth=None, n_estimators=40;, score=nan total time=   0.0s\n",
            "[CV 3/5] END criterion=entropy, max_depth=None, n_estimators=40;, score=nan total time=   0.0s\n",
            "[CV 4/5] END criterion=entropy, max_depth=None, n_estimators=40;, score=nan total time=   0.0s\n",
            "[CV 5/5] END criterion=entropy, max_depth=None, n_estimators=40;, score=nan total time=   0.0s\n",
            "[CV 1/5] END criterion=entropy, max_depth=None, n_estimators=50;, score=nan total time=   0.0s\n",
            "[CV 2/5] END criterion=entropy, max_depth=None, n_estimators=50;, score=nan total time=   0.0s\n",
            "[CV 3/5] END criterion=entropy, max_depth=None, n_estimators=50;, score=nan total time=   0.0s\n",
            "[CV 4/5] END criterion=entropy, max_depth=None, n_estimators=50;, score=nan total time=   0.0s\n",
            "[CV 5/5] END criterion=entropy, max_depth=None, n_estimators=50;, score=nan total time=   0.0s\n",
            "[CV 1/5] END criterion=entropy, max_depth=None, n_estimators=60;, score=nan total time=   0.0s\n",
            "[CV 2/5] END criterion=entropy, max_depth=None, n_estimators=60;, score=nan total time=   0.0s\n",
            "[CV 3/5] END criterion=entropy, max_depth=None, n_estimators=60;, score=nan total time=   0.0s\n",
            "[CV 4/5] END criterion=entropy, max_depth=None, n_estimators=60;, score=nan total time=   0.0s\n",
            "[CV 5/5] END criterion=entropy, max_depth=None, n_estimators=60;, score=nan total time=   0.0s\n",
            "Best parameters found:\n",
            "{'criterion': 'gini', 'max_depth': 5, 'n_estimators': 40}\n",
            "\n",
            "Classification Report:\n",
            "              precision    recall  f1-score   support\n",
            "\n",
            "           0       1.00      1.00      1.00        14\n",
            "           1       0.94      0.94      0.94        18\n",
            "           2       0.92      0.92      0.92        13\n",
            "\n",
            "    accuracy                           0.96        45\n",
            "   macro avg       0.96      0.96      0.96        45\n",
            "weighted avg       0.96      0.96      0.96        45\n",
            "\n"
          ]
        }
      ]
    },
    {
      "cell_type": "markdown",
      "source": [
        "## Q32. Train a Bagging Regressor with different numbers of base estimators and compare performance."
      ],
      "metadata": {
        "id": "YI60ngfwiAns"
      }
    },
    {
      "cell_type": "code",
      "source": [
        "from sklearn.datasets import make_regression\n",
        "X32, y32 = make_regression(n_samples=1000, n_features=20, noise=0.1, random_state=1)\n",
        "\n",
        "X32_train, X32_test, y32_train, y32_test = train_test_split(X32, y32, test_size=0.3, random_state=1)\n",
        "\n",
        "n_estimators_32 = [1, 5, 10, 20, 50, 100]\n",
        "mse_scores32 = []\n",
        "\n",
        "for i in n_estimators_32:\n",
        "    model32 = BaggingRegressor(estimator=DecisionTreeRegressor(),\n",
        "                              n_estimators=i,\n",
        "                              random_state=1)\n",
        "    model32.fit(X32_train, y32_train)\n",
        "    y32_pred = model32.predict(X32_test)\n",
        "    mse32 = mean_squared_error(y32_test, y32_pred)\n",
        "    mse_scores32.append(mse32)\n",
        "    print(f\"n_estimators = {i}: MSE = {mse32:.4f}\")\n",
        "\n",
        "least_mse32 = min(mse_scores32)\n",
        "best_n_estimators32 = n_estimators_32[mse_scores32.index(least_mse32)]\n",
        "print(f\"\\nBest n_estimators: {best_n_estimators32}\")"
      ],
      "metadata": {
        "colab": {
          "base_uri": "https://localhost:8080/"
        },
        "id": "QESoHOxWiH80",
        "outputId": "13226cd7-ab83-4c05-8bec-797b2ee573b2"
      },
      "execution_count": 34,
      "outputs": [
        {
          "output_type": "stream",
          "name": "stdout",
          "text": [
            "n_estimators = 1: MSE = 15277.4390\n",
            "n_estimators = 5: MSE = 6876.3326\n",
            "n_estimators = 10: MSE = 5992.9290\n",
            "n_estimators = 20: MSE = 5555.4770\n",
            "n_estimators = 50: MSE = 5439.4053\n",
            "n_estimators = 100: MSE = 5312.7030\n",
            "\n",
            "Best n_estimators: 100\n"
          ]
        }
      ]
    },
    {
      "cell_type": "markdown",
      "source": [
        "## Q33. Train a Random Forest Classifier and analyze misclassified samples."
      ],
      "metadata": {
        "id": "MEGehFXvkkNN"
      }
    },
    {
      "cell_type": "code",
      "source": [
        "from sklearn.datasets import load_iris\n",
        "iris = load_iris()\n",
        "X33, y33 = iris.data, iris.target\n",
        "feature_names = iris.feature_names\n",
        "target_names = iris.target_names\n",
        "\n",
        "X33_train, X33_test, y33_train, y33_test = train_test_split(X33, y33, test_size=0.3, random_state=1)\n",
        "\n",
        "clf33 = RandomForestClassifier()\n",
        "clf33.fit(X33_train, y33_train)\n",
        "y33_pred = clf33.predict(X33_test)\n",
        "\n",
        "acc33 = accuracy_score(y33_test, y33_pred)\n",
        "print(f\"Accuracy: {acc33:.6f}\")\n",
        "\n",
        "misclassified = np.where(y33_test != y33_pred)[0]\n",
        "\n",
        "print(f\"\\nNumber of misclassified samples: {len(misclassified)}\\n\")\n",
        "\n",
        "for i in misclassified:\n",
        "    true_label = target_names[y33_test[i]]\n",
        "    pred_label = target_names[y33_pred[i]]\n",
        "    features = X33_test[i]\n",
        "    print(f\"Sample index in test set: {i}\")\n",
        "    print(f\"  True label: {true_label}\")\n",
        "    print(f\"  Predicted: {pred_label}\")\n",
        "    print(f\"  Features: {features}\")\n",
        "    print(\"-\" * 40)"
      ],
      "metadata": {
        "colab": {
          "base_uri": "https://localhost:8080/"
        },
        "id": "bKcrZTQJQdzU",
        "outputId": "97cdb2bb-a62b-4c9d-8ac5-42f7e44affda"
      },
      "execution_count": 39,
      "outputs": [
        {
          "output_type": "stream",
          "name": "stdout",
          "text": [
            "Accuracy: 0.955556\n",
            "\n",
            "Number of misclassified samples: 2\n",
            "\n",
            "Sample index in test set: 22\n",
            "  True label: versicolor\n",
            "  Predicted: virginica\n",
            "  Features: [6.7 3.  5.  1.7]\n",
            "----------------------------------------\n",
            "Sample index in test set: 42\n",
            "  True label: virginica\n",
            "  Predicted: versicolor\n",
            "  Features: [6.  2.2 5.  1.5]\n",
            "----------------------------------------\n"
          ]
        }
      ]
    },
    {
      "cell_type": "markdown",
      "source": [
        "## Q34. Train a Bagging Classifier and compare its performance with a single Decision Tree Classifier."
      ],
      "metadata": {
        "id": "P0Ir4nwbpvQS"
      }
    },
    {
      "cell_type": "code",
      "source": [
        "from sklearn.datasets import load_iris\n",
        "iris = load_iris()\n",
        "X34, y34 = iris.data, iris.target\n",
        "\n",
        "X34_train, X34_test, y34_train, y34_test = train_test_split(X34, y34, test_size=0.3, random_state=1)\n",
        "\n",
        "#Bagging  Classifier\n",
        "bag_34 = BaggingClassifier(estimator=DecisionTreeClassifier(), random_state=1)\n",
        "bag_34.fit(X34_train, y34_train)\n",
        "y34_bag_pred = bag_34.predict(X34_test)\n",
        "acc_bag_clf34 = accuracy_score(y34_test, y34_bag_pred)\n",
        "\n",
        "#single Decision Tree\n",
        "dt_clf34 = DecisionTreeClassifier(max_depth=10, random_state=1)\n",
        "dt_clf34.fit(X34_train, y34_train)\n",
        "y34_dt_clf_pred = dt_clf34.predict(X34_test)\n",
        "acc_dt_clf34 = r2_score(y34_test, y34_dt_clf_pred)\n",
        "\n",
        "print(\"Bagging Classifier accuracy:\", acc_bag_clf34)\n",
        "print(\"Decision Tree Classifier accuracy:\", acc_dt_clf34)\n",
        "\n",
        "if acc_bag_clf34 > acc_dt_clf34:\n",
        "    print(\"Bagging Classifier performed better.\")\n",
        "elif acc_bag_clf34 < acc_dt_clf34:\n",
        "    print(\"Decision Tree Classifier performed better.\")\n",
        "else:\n",
        "    print(\"Both models performed equally well.\")"
      ],
      "metadata": {
        "colab": {
          "base_uri": "https://localhost:8080/"
        },
        "id": "HpZKa1itrehe",
        "outputId": "a7ba5dd8-1f5e-4c3a-8309-1d8aaace8840"
      },
      "execution_count": 36,
      "outputs": [
        {
          "output_type": "stream",
          "name": "stdout",
          "text": [
            "Bagging Classifier accuracy: 0.9555555555555556\n",
            "Decision Tree Classifier accuracy: 0.9258649093904447\n",
            "Bagging Classifier performed better.\n"
          ]
        }
      ]
    },
    {
      "cell_type": "markdown",
      "source": [
        "## Q35. Train a Random Forest Classifier and visualize the confusion matrix."
      ],
      "metadata": {
        "id": "ZJ5KDrBcrgle"
      }
    },
    {
      "cell_type": "code",
      "source": [
        "from sklearn.datasets import load_iris\n",
        "iris = load_iris()\n",
        "X35, y35 = iris.data, iris.target\n",
        "\n",
        "X35_train, X35_test, y35_train, y35_test = train_test_split(X35, y35, test_size=0.3, random_state=1)\n",
        "\n",
        "rf_clf35 = RandomForestClassifier(n_estimators=50, max_depth=10, random_state=1)\n",
        "rf_clf35.fit(X35_train, y35_train)\n",
        "y35_pred = rf_clf35.predict(X35_test)\n",
        "\n",
        "cm35 = confusion_matrix(y35_test, y35_pred)\n",
        "\n",
        "plt.figure(figsize=(8, 6))\n",
        "sns.heatmap(cm35, annot=True, cmap='Reds', linewidths=1, xticklabels=iris.target_names, yticklabels=iris.target_names, linecolor='Black')\n",
        "plt.xlabel('Predicted Labels')\n",
        "plt.ylabel('True Labels')\n",
        "plt.show()"
      ],
      "metadata": {
        "colab": {
          "base_uri": "https://localhost:8080/",
          "height": 542
        },
        "id": "3RsC_Py0s0EH",
        "outputId": "c4a8c6eb-64a2-4624-e614-1c56198201e9"
      },
      "execution_count": 42,
      "outputs": [
        {
          "output_type": "display_data",
          "data": {
            "text/plain": [
              "<Figure size 800x600 with 2 Axes>"
            ],
            "image/png": "[encoded data removed]"
          },
          "metadata": {}
        }
      ]
    },
    {
      "cell_type": "markdown",
      "source": [
        "## Q36. Train a Stacking Classifier using Decision Trees, SVM, and Logistic Regression, and compare accuracy."
      ],
      "metadata": {
        "id": "ZQeXjP3BtMm6"
      }
    },
    {
      "cell_type": "code",
      "source": [
        "from sklearn.datasets import load_iris\n",
        "iris = load_iris()\n",
        "X36, y36 = iris.data, iris.target\n",
        "\n",
        "X36_train, X36_test, y36_train, y36_test = train_test_split(X36, y36, test_size=0.3, random_state=1, stratify=y36)\n",
        "\n",
        "base_learners = [('decision_tree', DecisionTreeClassifier()),\n",
        "                 ('svm', SVC(probability=True, kernel='rbf')),\n",
        "                 ('log_reg', LogisticRegression(max_iter=1000))]\n",
        "\n",
        "from sklearn.ensemble import StackingClassifier\n",
        "stack_clf = StackingClassifier(estimators=base_learners, final_estimator=LogisticRegression(), cv=5)\n",
        "\n",
        "models = {'Decision Tree': base_learners[0][1],\n",
        "    'SVM': base_learners[1][1],\n",
        "    'Logistic Regression': base_learners[2][1],\n",
        "    'Stacking Classifier': stack_clf}\n",
        "\n",
        "print(\"Accuracy Comparison:\\n\" + \"-\"*25)\n",
        "for name, model in models.items():\n",
        "    model.fit(X36_train, y36_train)\n",
        "    y36_pred = model.predict(X36_test)\n",
        "    acc36 = accuracy_score(y36_test, y36_pred)\n",
        "    print(f\"{name}: {acc36:.4f}\")"
      ],
      "metadata": {
        "colab": {
          "base_uri": "https://localhost:8080/"
        },
        "id": "pErgNY8dtXWr",
        "outputId": "5cbee0f5-5c4d-4a11-d9c0-799208ad0f97"
      },
      "execution_count": 43,
      "outputs": [
        {
          "output_type": "stream",
          "name": "stdout",
          "text": [
            "Accuracy Comparison:\n",
            "-------------------------\n",
            "Decision Tree: 0.9778\n",
            "SVM: 0.9778\n",
            "Logistic Regression: 0.9778\n",
            "Stacking Classifier: 0.9778\n"
          ]
        }
      ]
    },
    {
      "cell_type": "markdown",
      "source": [
        "## Q37. Train a Random Forest Classifier and print the top 5 most important features."
      ],
      "metadata": {
        "id": "UVP3VbRPvRcJ"
      }
    },
    {
      "cell_type": "code",
      "source": [
        "from sklearn.datasets import load_breast_cancer\n",
        "breast_cancer = load_breast_cancer()\n",
        "X37, y37 = breast_cancer.data, breast_cancer.target\n",
        "feature_names37 = breast_cancer.feature_names\n",
        "\n",
        "X37_train, X37_test, y37_train, y37_test = train_test_split(X37, y37, test_size=0.3, random_state=1)\n",
        "\n",
        "rf_clf37 = RandomForestClassifier()\n",
        "rf_clf37.fit(X37_train, y37_train)\n",
        "y37_pred = rf_clf37.predict(X37_test)\n",
        "\n",
        "print(\"Top 5 most important features:\")\n",
        "importances37 = rf_clf37.feature_importances_\n",
        "series37 = pd.Series(importances37, index=feature_names37)\n",
        "print(series37.sort_values(ascending=False).head(5))"
      ],
      "metadata": {
        "colab": {
          "base_uri": "https://localhost:8080/"
        },
        "id": "lHBtPmRqKE6o",
        "outputId": "74a80f65-cd0b-4ed1-9642-32e9c930e00d"
      },
      "execution_count": 44,
      "outputs": [
        {
          "output_type": "stream",
          "name": "stdout",
          "text": [
            "Top 5 most important features:\n",
            "worst perimeter         0.156919\n",
            "worst concave points    0.124488\n",
            "worst area              0.121532\n",
            "mean concave points     0.104474\n",
            "worst radius            0.100140\n",
            "dtype: float64\n"
          ]
        }
      ]
    },
    {
      "cell_type": "markdown",
      "source": [
        "## Q38. Train a Bagging Classifier and evaluate performance using Precision, Recall, and F1-score."
      ],
      "metadata": {
        "id": "9eLXWZACKHXP"
      }
    },
    {
      "cell_type": "code",
      "source": [
        "from sklearn.datasets import load_iris\n",
        "iris = load_iris()\n",
        "X38, y38 = iris.data, iris.target\n",
        "\n",
        "X38_train, X38_test, y38_train, y38_test = train_test_split(X38, y38, test_size=0.3, random_state=1)\n",
        "\n",
        "bagging_model38 = BaggingClassifier()\n",
        "bagging_model38.fit(X38_train, y38_train)\n",
        "y38_pred = bagging_model38.predict(X38_test)\n",
        "\n",
        "from sklearn.metrics import precision_score, recall_score, f1_score\n",
        "precision38 = precision_score(y38_test, y38_pred, average='weighted')\n",
        "recall38 = recall_score(y38_test, y38_pred, average='weighted')\n",
        "f1_score38 = f1_score(y38_test, y38_pred, average='weighted')\n",
        "\n",
        "print(\"Bagging Classifier Precision:\", precision38)\n",
        "print(\"Bagging Classifier Recall:\", recall38)\n",
        "print(\"Bagging Classifier F1-score:\", f1_score38)"
      ],
      "metadata": {
        "colab": {
          "base_uri": "https://localhost:8080/"
        },
        "id": "O6PN4Ts1K8x9",
        "outputId": "d4d1af9c-62f4-4008-d73a-a1e8e12889e1"
      },
      "execution_count": 45,
      "outputs": [
        {
          "output_type": "stream",
          "name": "stdout",
          "text": [
            "Bagging Classifier Precision: 0.9555555555555556\n",
            "Bagging Classifier Recall: 0.9555555555555556\n",
            "Bagging Classifier F1-score: 0.9555555555555556\n"
          ]
        }
      ]
    },
    {
      "cell_type": "markdown",
      "source": [
        "## Q39. Train a Random Forest Classifier and analyze the effect of max_depth on accuracy."
      ],
      "metadata": {
        "id": "2uVPH1_ILQL_"
      }
    },
    {
      "cell_type": "code",
      "source": [
        "from sklearn.datasets import load_iris\n",
        "iris = load_iris()\n",
        "X39, y39 = iris.data, iris.target\n",
        "\n",
        "X39_train, X39_test, y39_train, y39_test = train_test_split(X39, y39, test_size=0.3, random_state=1)\n",
        "\n",
        "depth_values = list(range(1, 21))\n",
        "train_accuracies39 = []\n",
        "test_accuracies39 = []\n",
        "\n",
        "for depth in depth_values:\n",
        "    clf39 = RandomForestClassifier(max_depth=depth, random_state=1)\n",
        "    clf39.fit(X39_train, y39_train)\n",
        "\n",
        "    train_acc = accuracy_score(y39_train, clf39.predict(X39_train))\n",
        "    test_acc = accuracy_score(y39_test, clf39.predict(X39_test))\n",
        "\n",
        "    train_accuracies39.append(train_acc)\n",
        "    test_accuracies39.append(test_acc)\n",
        "\n",
        "    print(f\"max_depth={depth} | Train Acc: {train_acc:.4f} | Test Acc: {test_acc:.4f}\")\n",
        "\n",
        "\n",
        "plt.figure(figsize=(10, 6))\n",
        "plt.plot(depth_values, train_accuracies39, label='Train Accuracy', marker='o')\n",
        "plt.plot(depth_values, test_accuracies39, label='Test Accuracy', marker='s')\n",
        "plt.xlabel('max_depth')\n",
        "plt.ylabel('Accuracy')\n",
        "plt.title('Effect of max_depth on Random Forest Accuracy')\n",
        "plt.legend()\n",
        "plt.grid(True)\n",
        "plt.tight_layout()\n",
        "plt.show()"
      ],
      "metadata": {
        "colab": {
          "base_uri": "https://localhost:8080/",
          "height": 954
        },
        "id": "L4wd7yvxLY-C",
        "outputId": "1be5ea58-78ae-4019-dafa-3fb1bb6bb0cd"
      },
      "execution_count": 46,
      "outputs": [
        {
          "output_type": "stream",
          "name": "stdout",
          "text": [
            "max_depth=1 | Train Acc: 0.7333 | Test Acc: 0.6444\n",
            "max_depth=2 | Train Acc: 0.9619 | Test Acc: 0.9556\n",
            "max_depth=3 | Train Acc: 0.9810 | Test Acc: 0.9556\n",
            "max_depth=4 | Train Acc: 0.9905 | Test Acc: 0.9556\n",
            "max_depth=5 | Train Acc: 1.0000 | Test Acc: 0.9556\n",
            "max_depth=6 | Train Acc: 1.0000 | Test Acc: 0.9556\n",
            "max_depth=7 | Train Acc: 1.0000 | Test Acc: 0.9556\n",
            "max_depth=8 | Train Acc: 1.0000 | Test Acc: 0.9556\n",
            "max_depth=9 | Train Acc: 1.0000 | Test Acc: 0.9556\n",
            "max_depth=10 | Train Acc: 1.0000 | Test Acc: 0.9556\n",
            "max_depth=11 | Train Acc: 1.0000 | Test Acc: 0.9556\n",
            "max_depth=12 | Train Acc: 1.0000 | Test Acc: 0.9556\n",
            "max_depth=13 | Train Acc: 1.0000 | Test Acc: 0.9556\n",
            "max_depth=14 | Train Acc: 1.0000 | Test Acc: 0.9556\n",
            "max_depth=15 | Train Acc: 1.0000 | Test Acc: 0.9556\n",
            "max_depth=16 | Train Acc: 1.0000 | Test Acc: 0.9556\n",
            "max_depth=17 | Train Acc: 1.0000 | Test Acc: 0.9556\n",
            "max_depth=18 | Train Acc: 1.0000 | Test Acc: 0.9556\n",
            "max_depth=19 | Train Acc: 1.0000 | Test Acc: 0.9556\n",
            "max_depth=20 | Train Acc: 1.0000 | Test Acc: 0.9556\n"
          ]
        },
        {
          "output_type": "display_data",
          "data": {
            "text/plain": [
              "<Figure size 1000x600 with 1 Axes>"
            ],
            "image/png": "[encoded data removed]"
          },
          "metadata": {}
        }
      ]
    },
    {
      "cell_type": "markdown",
      "source": [
        "## Q40. Train a Bagging Regressor using different base estimators (DecisionTree and KNeighbors) and compare performance."
      ],
      "metadata": {
        "id": "Kiz6yyWAb5O2"
      }
    },
    {
      "cell_type": "code",
      "source": [
        "from sklearn.datasets import fetch_california_housing\n",
        "housing = fetch_california_housing()\n",
        "X40, y40 = housing.data, housing.target\n",
        "\n",
        "X40_train, X40_test, y40_train, y40_test = train_test_split(X40, y40, test_size=0.3, random_state=1)\n",
        "\n",
        "bagging_dt40 = BaggingRegressor(estimator=DecisionTreeRegressor(), n_estimators=10, random_state=1)\n",
        "bagging_dt40.fit(X40_train, y40_train)\n",
        "y40_dt_pred = bagging_dt40.predict(X40_test)\n",
        "\n",
        "from sklearn.neighbors import KNeighborsRegressor\n",
        "bagging_kn40 = BaggingRegressor(estimator=KNeighborsRegressor(), n_estimators=10, random_state=1)\n",
        "bagging_kn40.fit(X40_train, y40_train)\n",
        "y40_kn_pred = bagging_kn40.predict(X40_test)\n",
        "\n",
        "mse_dt_40 = mean_squared_error(y40_test, y40_dt_pred)\n",
        "mse_kn_40 = mean_squared_error(y40_test, y40_kn_pred)\n",
        "\n",
        "print(\"Decision Tree Regressor Mean Squared Error:\", mse_dt_40)\n",
        "print(\"KNeighbors Regressor Mean Squared Error:\", mse_kn_40)\n",
        "\n",
        "if mse_dt_40 < mse_kn_40:\n",
        "  print(\"Decision Tree Regressor performed well.\")\n",
        "elif mse_dt_40 > mse_kn_40:\n",
        "  print(\"KNeighbors Regressor performed well.\")\n",
        "else:\n",
        "  print(\"Both models performed equally well\")"
      ],
      "metadata": {
        "colab": {
          "base_uri": "https://localhost:8080/"
        },
        "id": "epknvaOncVqb",
        "outputId": "04e2b370-b202-492c-ce4e-28b0b6c315d6"
      },
      "execution_count": 47,
      "outputs": [
        {
          "output_type": "stream",
          "name": "stdout",
          "text": [
            "Decision Tree Regressor Mean Squared Error: 0.2888700666178425\n",
            "KNeighbors Regressor Mean Squared Error: 1.117966131573026\n",
            "Decision Tree Regressor performed well.\n"
          ]
        }
      ]
    },
    {
      "cell_type": "markdown",
      "source": [
        "## Q41. Train a Random Forest Classifier and evaluate its performance using ROC-AUC Score."
      ],
      "metadata": {
        "id": "x4RLgfRygojg"
      }
    },
    {
      "cell_type": "code",
      "source": [
        "from sklearn.datasets import make_classification\n",
        "X41, y41 = make_classification(n_samples=1000, n_features=20, n_informative=15, n_redundant=5,  random_state=1)\n",
        "\n",
        "X41_train, X41_test, y41_train, y41_test = train_test_split(X41, y41, test_size=0.3, random_state=1)\n",
        "\n",
        "clf41 = RandomForestClassifier()\n",
        "clf41.fit(X41_train, y41_train)\n",
        "\n",
        "y41_probs = clf41.predict_proba(X41_test)[:, 1]\n",
        "\n",
        "from sklearn.metrics import roc_curve, roc_auc_score\n",
        "roc_auc41 = roc_auc_score(y41_test, y41_probs)\n",
        "print(f\"ROC-AUC Score: {roc_auc41:.4f}\\n\")\n",
        "\n",
        "fpr, tpr, thresholds = roc_curve(y41_test, y41_probs)\n",
        "\n",
        "plt.figure(figsize=(8, 6))\n",
        "plt.plot(fpr, tpr, label=f'ROC Curve (AUC = {roc_auc41:.4f})', color='darkorange')\n",
        "plt.plot([0, 1], [0, 1], linestyle='--', color='gray')\n",
        "plt.xlabel('False Positive Rate')\n",
        "plt.ylabel('True Positive Rate')\n",
        "plt.title('Random Forest ROC Curve')\n",
        "plt.legend()\n",
        "plt.grid(True)\n",
        "plt.show()"
      ],
      "metadata": {
        "colab": {
          "base_uri": "https://localhost:8080/",
          "height": 599
        },
        "id": "QeU_8U3Jhhum",
        "outputId": "cf9af960-e7c2-4ba2-e948-e1f46401ee3b"
      },
      "execution_count": 48,
      "outputs": [
        {
          "output_type": "stream",
          "name": "stdout",
          "text": [
            "ROC-AUC Score: 0.9590\n",
            "\n"
          ]
        },
        {
          "output_type": "display_data",
          "data": {
            "text/plain": [
              "<Figure size 800x600 with 1 Axes>"
            ],
            "image/png": "[encoded data removed]"
          },
          "metadata": {}
        }
      ]
    },
    {
      "cell_type": "markdown",
      "source": [
        "## Q42. Train a Bagging Classifier and evaluate its performance using cross-validation."
      ],
      "metadata": {
        "id": "cgzUXuselGU3"
      }
    },
    {
      "cell_type": "code",
      "source": [
        "from sklearn.datasets import load_iris\n",
        "iris = load_iris()\n",
        "X42, y42 = iris.data, iris.target\n",
        "\n",
        "X42_train, X42_test, y42_train, y42_test = train_test_split(X42, y42, test_size=0.3, random_state=1)\n",
        "\n",
        "bagging_model42 = BaggingClassifier(n_estimators=100)\n",
        "bagging_model42.fit(X42_train, y42_train)\n",
        "y42_pred = bagging_model42.predict(X42_test)\n",
        "\n",
        "from sklearn.model_selection import cross_val_score\n",
        "cv_scores42 = cross_val_score(bagging_model42, X42, y42, cv=5)\n",
        "print(\"Cross-Validation Scores:\", cv_scores42)"
      ],
      "metadata": {
        "colab": {
          "base_uri": "https://localhost:8080/"
        },
        "id": "HE9WLE9sl1bF",
        "outputId": "4b085c5a-f6a7-4b75-c154-317e6bd7f476"
      },
      "execution_count": 49,
      "outputs": [
        {
          "output_type": "stream",
          "name": "stdout",
          "text": [
            "Cross-Validation Scores: [0.96666667 0.96666667 0.93333333 0.96666667 1.        ]\n"
          ]
        }
      ]
    },
    {
      "cell_type": "markdown",
      "source": [
        "## Q43. Train a Random Forest Classifier and plot the Precision-Recall curve."
      ],
      "metadata": {
        "id": "W7jT5Benl15E"
      }
    },
    {
      "cell_type": "code",
      "source": [
        "from sklearn.datasets import make_classification\n",
        "X43, y43 = make_classification(n_samples=1000, n_features=20, n_informative=15, n_redundant=5,  random_state=1)\n",
        "\n",
        "X43_train, X43_test, y43_train, y43_test = train_test_split(X43, y43, test_size=0.3, random_state=1)\n",
        "\n",
        "clf43 = RandomForestClassifier()\n",
        "clf43.fit(X43_train, y43_train)\n",
        "y43_probs = clf43.predict_proba(X43_test)[:,1]\n",
        "\n",
        "from sklearn.metrics import precision_recall_curve, average_precision_score\n",
        "precision, recall, thresholds = precision_recall_curve(y43_test, y43_probs)\n",
        "avg_precision = average_precision_score(y43_test, y43_probs)\n",
        "\n",
        "plt.figure(figsize=(8, 6))\n",
        "plt.plot(recall, precision, label=f'AP = {avg_precision:.4f}', color='blue')\n",
        "plt.xlabel('Recall')\n",
        "plt.ylabel('Precision')\n",
        "plt.title('Precision-Recall Curve (Random Forest)')\n",
        "plt.legend()\n",
        "plt.grid(True)\n",
        "plt.show()"
      ],
      "metadata": {
        "colab": {
          "base_uri": "https://localhost:8080/",
          "height": 564
        },
        "id": "dv_9rjlcl8HN",
        "outputId": "80b0d9e6-550b-4e2c-933c-5c16a895a54c"
      },
      "execution_count": 50,
      "outputs": [
        {
          "output_type": "display_data",
          "data": {
            "text/plain": [
              "<Figure size 800x600 with 1 Axes>"
            ],
            "image/png": "[encoded data removed]"
          },
          "metadata": {}
        }
      ]
    },
    {
      "cell_type": "markdown",
      "source": [
        "## Q44. Train a Stacking Classifier with Random Forest and Logistic Regression and compare accuracy.\n"
      ],
      "metadata": {
        "id": "NmQDC13qKEIG"
      }
    },
    {
      "cell_type": "code",
      "source": [
        "from sklearn.datasets import load_iris\n",
        "iris = load_iris()\n",
        "X44, y44 = iris.data, iris.target\n",
        "\n",
        "X44_train, X44_test, y44_train, y44_test = train_test_split(X44, y44, test_size=0.3, random_state=1)\n",
        "\n",
        "base_learners = [('rf', RandomForestClassifier(n_estimators=100, random_state=1)), ('lr', LogisticRegression(max_iter=1000, random_state=1))]\n",
        "\n",
        "from sklearn.ensemble import StackingClassifier\n",
        "stack_clf = StackingClassifier(estimators=base_learners, final_estimator=LogisticRegression(), cv=5)\n",
        "\n",
        "models = {\n",
        "    'Random Forest': base_learners[0][1],\n",
        "    'Logistic Regression': base_learners[1][1],\n",
        "    'Stacking Classifier': stack_clf}\n",
        "\n",
        "print(\"Model Accuracy Comparison:\\n\" + \"-\"*26)\n",
        "for name, model in models.items():\n",
        "    model.fit(X44_train, y44_train)\n",
        "    y44_pred = model.predict(X44_test)\n",
        "    acc44 = accuracy_score(y44_test, y44_pred)\n",
        "    print(f\"{name}: {acc44:.4f}\")"
      ],
      "metadata": {
        "colab": {
          "base_uri": "https://localhost:8080/"
        },
        "id": "Y2F9lOJfKMP3",
        "outputId": "8f884c2a-060e-4ca4-f8ad-9710835ca991"
      },
      "execution_count": 51,
      "outputs": [
        {
          "output_type": "stream",
          "name": "stdout",
          "text": [
            "Model Accuracy Comparison:\n",
            "--------------------------\n",
            "Random Forest: 0.9556\n",
            "Logistic Regression: 0.9778\n",
            "Stacking Classifier: 0.9556\n"
          ]
        }
      ]
    },
    {
      "cell_type": "markdown",
      "source": [
        "## Q45. Train a Bagging Regressor with different levels of bootstrap samples and compare performance."
      ],
      "metadata": {
        "id": "G72m4AJwOUyF"
      }
    },
    {
      "cell_type": "code",
      "source": [
        "from sklearn.datasets import make_regression\n",
        "X45, y45 = make_regression(n_samples=500, n_features=10, noise=0.2, random_state=1)\n",
        "\n",
        "X45_train, X45_test, y45_train, y45_test = train_test_split(X45, y45, test_size=0.3, random_state=1)\n",
        "\n",
        "sample_sizes = [0.3, 0.5, 0.7, 1.0]\n",
        "\n",
        "print(\"Performance with different max_samples values:\\n\")\n",
        "\n",
        "for size in sample_sizes:\n",
        "    model45 = BaggingRegressor(estimator=DecisionTreeRegressor(), n_estimators=30, max_samples=size, random_state=1)\n",
        "    model45.fit(X45_train, y45_train)\n",
        "    y45_pred = model45.predict(X45_test)\n",
        "    mse45 = mean_squared_error(y45_test, y45_pred)\n",
        "    print(f\"max_samples = {size} : MSE = {mse45:.5f}\")"
      ],
      "metadata": {
        "colab": {
          "base_uri": "https://localhost:8080/"
        },
        "id": "e4JrQm5qObAl",
        "outputId": "243e4077-63ea-4d4a-9fca-c38008491885"
      },
      "execution_count": 52,
      "outputs": [
        {
          "output_type": "stream",
          "name": "stdout",
          "text": [
            "Performance with different max_samples values:\n",
            "\n",
            "max_samples = 0.3 : MSE = 5778.53325\n",
            "max_samples = 0.5 : MSE = 5406.67564\n",
            "max_samples = 0.7 : MSE = 4851.34162\n",
            "max_samples = 1.0 : MSE = 4858.79630\n"
          ]
        }
      ]
    }
  ]
}